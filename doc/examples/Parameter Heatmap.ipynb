{
 "cells": [
  {
   "cell_type": "markdown",
   "metadata": {},
   "source": [
    "Parameter Heatmap\n",
    "==========\n",
    "\n",
    "This tutorial will show how to optimize strategies with multiple parameters and how to examine and reason about optimization results.\n",
    "It is assumed you're already familiar with\n",
    "[basic _backtesting.py_ usage](https://kernc.github.io/backtesting.py/doc/examples/Quick Start User Guide.html).\n",
    "\n",
    "First, let's again import our helper moving average function.\n",
    "In practice, one should use functions from an indicator library, such as\n",
    "[TA-Lib](https://github.com/mrjbq7/ta-lib) or\n",
    "[Tulipy](https://tulipindicators.org)."
   ]
  },
  {
   "cell_type": "code",
   "execution_count": 1,
   "metadata": {},
   "outputs": [
    {
     "name": "stderr",
     "output_type": "stream",
     "text": [
      "/home/jk/PycharmProjects/backtesting/backtesting/_plotting.py:44: UserWarning: Jupyter Notebook detected. Setting Bokeh output to notebook. This may not work in Jupyter clients without JavaScript support (e.g. PyCharm, Spyder IDE). Reset with `backtesting.set_bokeh_output(notebook=False)`.\n",
      "  warnings.warn('Jupyter Notebook detected. '\n"
     ]
    },
    {
     "data": {
      "text/html": [
       "\n",
       "    <div class=\"bk-root\">\n",
       "        <a href=\"https://bokeh.org\" target=\"_blank\" class=\"bk-logo bk-logo-small bk-logo-notebook\"></a>\n",
       "        <span id=\"1001\">Loading BokehJS ...</span>\n",
       "    </div>"
      ]
     },
     "metadata": {},
     "output_type": "display_data"
    },
    {
     "data": {
      "application/javascript": [
       "\n",
       "(function(root) {\n",
       "  function now() {\n",
       "    return new Date();\n",
       "  }\n",
       "\n",
       "  var force = true;\n",
       "\n",
       "  if (typeof root._bokeh_onload_callbacks === \"undefined\" || force === true) {\n",
       "    root._bokeh_onload_callbacks = [];\n",
       "    root._bokeh_is_loading = undefined;\n",
       "  }\n",
       "\n",
       "  var JS_MIME_TYPE = 'application/javascript';\n",
       "  var HTML_MIME_TYPE = 'text/html';\n",
       "  var EXEC_MIME_TYPE = 'application/vnd.bokehjs_exec.v0+json';\n",
       "  var CLASS_NAME = 'output_bokeh rendered_html';\n",
       "\n",
       "  /**\n",
       "   * Render data to the DOM node\n",
       "   */\n",
       "  function render(props, node) {\n",
       "    var script = document.createElement(\"script\");\n",
       "    node.appendChild(script);\n",
       "  }\n",
       "\n",
       "  /**\n",
       "   * Handle when an output is cleared or removed\n",
       "   */\n",
       "  function handleClearOutput(event, handle) {\n",
       "    var cell = handle.cell;\n",
       "\n",
       "    var id = cell.output_area._bokeh_element_id;\n",
       "    var server_id = cell.output_area._bokeh_server_id;\n",
       "    // Clean up Bokeh references\n",
       "    if (id != null && id in Bokeh.index) {\n",
       "      Bokeh.index[id].model.document.clear();\n",
       "      delete Bokeh.index[id];\n",
       "    }\n",
       "\n",
       "    if (server_id !== undefined) {\n",
       "      // Clean up Bokeh references\n",
       "      var cmd = \"from bokeh.io.state import curstate; print(curstate().uuid_to_server['\" + server_id + \"'].get_sessions()[0].document.roots[0]._id)\";\n",
       "      cell.notebook.kernel.execute(cmd, {\n",
       "        iopub: {\n",
       "          output: function(msg) {\n",
       "            var id = msg.content.text.trim();\n",
       "            if (id in Bokeh.index) {\n",
       "              Bokeh.index[id].model.document.clear();\n",
       "              delete Bokeh.index[id];\n",
       "            }\n",
       "          }\n",
       "        }\n",
       "      });\n",
       "      // Destroy server and session\n",
       "      var cmd = \"import bokeh.io.notebook as ion; ion.destroy_server('\" + server_id + \"')\";\n",
       "      cell.notebook.kernel.execute(cmd);\n",
       "    }\n",
       "  }\n",
       "\n",
       "  /**\n",
       "   * Handle when a new output is added\n",
       "   */\n",
       "  function handleAddOutput(event, handle) {\n",
       "    var output_area = handle.output_area;\n",
       "    var output = handle.output;\n",
       "\n",
       "    // limit handleAddOutput to display_data with EXEC_MIME_TYPE content only\n",
       "    if ((output.output_type != \"display_data\") || (!output.data.hasOwnProperty(EXEC_MIME_TYPE))) {\n",
       "      return\n",
       "    }\n",
       "\n",
       "    var toinsert = output_area.element.find(\".\" + CLASS_NAME.split(' ')[0]);\n",
       "\n",
       "    if (output.metadata[EXEC_MIME_TYPE][\"id\"] !== undefined) {\n",
       "      toinsert[toinsert.length - 1].firstChild.textContent = output.data[JS_MIME_TYPE];\n",
       "      // store reference to embed id on output_area\n",
       "      output_area._bokeh_element_id = output.metadata[EXEC_MIME_TYPE][\"id\"];\n",
       "    }\n",
       "    if (output.metadata[EXEC_MIME_TYPE][\"server_id\"] !== undefined) {\n",
       "      var bk_div = document.createElement(\"div\");\n",
       "      bk_div.innerHTML = output.data[HTML_MIME_TYPE];\n",
       "      var script_attrs = bk_div.children[0].attributes;\n",
       "      for (var i = 0; i < script_attrs.length; i++) {\n",
       "        toinsert[toinsert.length - 1].firstChild.setAttribute(script_attrs[i].name, script_attrs[i].value);\n",
       "      }\n",
       "      // store reference to server id on output_area\n",
       "      output_area._bokeh_server_id = output.metadata[EXEC_MIME_TYPE][\"server_id\"];\n",
       "    }\n",
       "  }\n",
       "\n",
       "  function register_renderer(events, OutputArea) {\n",
       "\n",
       "    function append_mime(data, metadata, element) {\n",
       "      // create a DOM node to render to\n",
       "      var toinsert = this.create_output_subarea(\n",
       "        metadata,\n",
       "        CLASS_NAME,\n",
       "        EXEC_MIME_TYPE\n",
       "      );\n",
       "      this.keyboard_manager.register_events(toinsert);\n",
       "      // Render to node\n",
       "      var props = {data: data, metadata: metadata[EXEC_MIME_TYPE]};\n",
       "      render(props, toinsert[toinsert.length - 1]);\n",
       "      element.append(toinsert);\n",
       "      return toinsert\n",
       "    }\n",
       "\n",
       "    /* Handle when an output is cleared or removed */\n",
       "    events.on('clear_output.CodeCell', handleClearOutput);\n",
       "    events.on('delete.Cell', handleClearOutput);\n",
       "\n",
       "    /* Handle when a new output is added */\n",
       "    events.on('output_added.OutputArea', handleAddOutput);\n",
       "\n",
       "    /**\n",
       "     * Register the mime type and append_mime function with output_area\n",
       "     */\n",
       "    OutputArea.prototype.register_mime_type(EXEC_MIME_TYPE, append_mime, {\n",
       "      /* Is output safe? */\n",
       "      safe: true,\n",
       "      /* Index of renderer in `output_area.display_order` */\n",
       "      index: 0\n",
       "    });\n",
       "  }\n",
       "\n",
       "  // register the mime type if in Jupyter Notebook environment and previously unregistered\n",
       "  if (root.Jupyter !== undefined) {\n",
       "    var events = require('base/js/events');\n",
       "    var OutputArea = require('notebook/js/outputarea').OutputArea;\n",
       "\n",
       "    if (OutputArea.prototype.mime_types().indexOf(EXEC_MIME_TYPE) == -1) {\n",
       "      register_renderer(events, OutputArea);\n",
       "    }\n",
       "  }\n",
       "\n",
       "  \n",
       "  if (typeof (root._bokeh_timeout) === \"undefined\" || force === true) {\n",
       "    root._bokeh_timeout = Date.now() + 5000;\n",
       "    root._bokeh_failed_load = false;\n",
       "  }\n",
       "\n",
       "  var NB_LOAD_WARNING = {'data': {'text/html':\n",
       "     \"<div style='background-color: #fdd'>\\n\"+\n",
       "     \"<p>\\n\"+\n",
       "     \"BokehJS does not appear to have successfully loaded. If loading BokehJS from CDN, this \\n\"+\n",
       "     \"may be due to a slow or bad network connection. Possible fixes:\\n\"+\n",
       "     \"</p>\\n\"+\n",
       "     \"<ul>\\n\"+\n",
       "     \"<li>re-rerun `output_notebook()` to attempt to load from CDN again, or</li>\\n\"+\n",
       "     \"<li>use INLINE resources instead, as so:</li>\\n\"+\n",
       "     \"</ul>\\n\"+\n",
       "     \"<code>\\n\"+\n",
       "     \"from bokeh.resources import INLINE\\n\"+\n",
       "     \"output_notebook(resources=INLINE)\\n\"+\n",
       "     \"</code>\\n\"+\n",
       "     \"</div>\"}};\n",
       "\n",
       "  function display_loaded() {\n",
       "    var el = document.getElementById(\"1001\");\n",
       "    if (el != null) {\n",
       "      el.textContent = \"BokehJS is loading...\";\n",
       "    }\n",
       "    if (root.Bokeh !== undefined) {\n",
       "      if (el != null) {\n",
       "        el.textContent = \"BokehJS \" + root.Bokeh.version + \" successfully loaded.\";\n",
       "      }\n",
       "    } else if (Date.now() < root._bokeh_timeout) {\n",
       "      setTimeout(display_loaded, 100)\n",
       "    }\n",
       "  }\n",
       "\n",
       "\n",
       "  function run_callbacks() {\n",
       "    try {\n",
       "      root._bokeh_onload_callbacks.forEach(function(callback) {\n",
       "        if (callback != null)\n",
       "          callback();\n",
       "      });\n",
       "    } finally {\n",
       "      delete root._bokeh_onload_callbacks\n",
       "    }\n",
       "    console.debug(\"Bokeh: all callbacks have finished\");\n",
       "  }\n",
       "\n",
       "  function load_libs(css_urls, js_urls, callback) {\n",
       "    if (css_urls == null) css_urls = [];\n",
       "    if (js_urls == null) js_urls = [];\n",
       "\n",
       "    root._bokeh_onload_callbacks.push(callback);\n",
       "    if (root._bokeh_is_loading > 0) {\n",
       "      console.debug(\"Bokeh: BokehJS is being loaded, scheduling callback at\", now());\n",
       "      return null;\n",
       "    }\n",
       "    if (js_urls == null || js_urls.length === 0) {\n",
       "      run_callbacks();\n",
       "      return null;\n",
       "    }\n",
       "    console.debug(\"Bokeh: BokehJS not loaded, scheduling load and callback at\", now());\n",
       "    root._bokeh_is_loading = css_urls.length + js_urls.length;\n",
       "\n",
       "    function on_load() {\n",
       "      root._bokeh_is_loading--;\n",
       "      if (root._bokeh_is_loading === 0) {\n",
       "        console.debug(\"Bokeh: all BokehJS libraries/stylesheets loaded\");\n",
       "        run_callbacks()\n",
       "      }\n",
       "    }\n",
       "\n",
       "    function on_error() {\n",
       "      console.error(\"failed to load \" + url);\n",
       "    }\n",
       "\n",
       "    for (var i = 0; i < css_urls.length; i++) {\n",
       "      var url = css_urls[i];\n",
       "      const element = document.createElement(\"link\");\n",
       "      element.onload = on_load;\n",
       "      element.onerror = on_error;\n",
       "      element.rel = \"stylesheet\";\n",
       "      element.type = \"text/css\";\n",
       "      element.href = url;\n",
       "      console.debug(\"Bokeh: injecting link tag for BokehJS stylesheet: \", url);\n",
       "      document.body.appendChild(element);\n",
       "    }\n",
       "\n",
       "    for (var i = 0; i < js_urls.length; i++) {\n",
       "      var url = js_urls[i];\n",
       "      var element = document.createElement('script');\n",
       "      element.onload = on_load;\n",
       "      element.onerror = on_error;\n",
       "      element.async = false;\n",
       "      element.src = url;\n",
       "      console.debug(\"Bokeh: injecting script tag for BokehJS library: \", url);\n",
       "      document.head.appendChild(element);\n",
       "    }\n",
       "  };var element = document.getElementById(\"1001\");\n",
       "  if (element == null) {\n",
       "    console.error(\"Bokeh: ERROR: autoload.js configured with elementid '1001' but no matching script tag was found. \")\n",
       "    return false;\n",
       "  }\n",
       "\n",
       "  function inject_raw_css(css) {\n",
       "    const element = document.createElement(\"style\");\n",
       "    element.appendChild(document.createTextNode(css));\n",
       "    document.body.appendChild(element);\n",
       "  }\n",
       "\n",
       "  \n",
       "  var js_urls = [\"https://cdn.pydata.org/bokeh/release/bokeh-1.4.0.min.js\", \"https://cdn.pydata.org/bokeh/release/bokeh-widgets-1.4.0.min.js\", \"https://cdn.pydata.org/bokeh/release/bokeh-tables-1.4.0.min.js\", \"https://cdn.pydata.org/bokeh/release/bokeh-gl-1.4.0.min.js\"];\n",
       "  var css_urls = [];\n",
       "  \n",
       "\n",
       "  var inline_js = [\n",
       "    function(Bokeh) {\n",
       "      Bokeh.set_log_level(\"info\");\n",
       "    },\n",
       "    function(Bokeh) {\n",
       "    \n",
       "    \n",
       "    }\n",
       "  ];\n",
       "\n",
       "  function run_inline_js() {\n",
       "    \n",
       "    if (root.Bokeh !== undefined || force === true) {\n",
       "      \n",
       "    for (var i = 0; i < inline_js.length; i++) {\n",
       "      inline_js[i].call(root, root.Bokeh);\n",
       "    }\n",
       "    if (force === true) {\n",
       "        display_loaded();\n",
       "      }} else if (Date.now() < root._bokeh_timeout) {\n",
       "      setTimeout(run_inline_js, 100);\n",
       "    } else if (!root._bokeh_failed_load) {\n",
       "      console.log(\"Bokeh: BokehJS failed to load within specified timeout.\");\n",
       "      root._bokeh_failed_load = true;\n",
       "    } else if (force !== true) {\n",
       "      var cell = $(document.getElementById(\"1001\")).parents('.cell').data().cell;\n",
       "      cell.output_area.append_execute_result(NB_LOAD_WARNING)\n",
       "    }\n",
       "\n",
       "  }\n",
       "\n",
       "  if (root._bokeh_is_loading === 0) {\n",
       "    console.debug(\"Bokeh: BokehJS loaded, going straight to plotting\");\n",
       "    run_inline_js();\n",
       "  } else {\n",
       "    load_libs(css_urls, js_urls, function() {\n",
       "      console.debug(\"Bokeh: BokehJS plotting callback run at\", now());\n",
       "      run_inline_js();\n",
       "    });\n",
       "  }\n",
       "}(window));"
      ],
      "application/vnd.bokehjs_load.v0+json": "\n(function(root) {\n  function now() {\n    return new Date();\n  }\n\n  var force = true;\n\n  if (typeof root._bokeh_onload_callbacks === \"undefined\" || force === true) {\n    root._bokeh_onload_callbacks = [];\n    root._bokeh_is_loading = undefined;\n  }\n\n  \n\n  \n  if (typeof (root._bokeh_timeout) === \"undefined\" || force === true) {\n    root._bokeh_timeout = Date.now() + 5000;\n    root._bokeh_failed_load = false;\n  }\n\n  var NB_LOAD_WARNING = {'data': {'text/html':\n     \"<div style='background-color: #fdd'>\\n\"+\n     \"<p>\\n\"+\n     \"BokehJS does not appear to have successfully loaded. If loading BokehJS from CDN, this \\n\"+\n     \"may be due to a slow or bad network connection. Possible fixes:\\n\"+\n     \"</p>\\n\"+\n     \"<ul>\\n\"+\n     \"<li>re-rerun `output_notebook()` to attempt to load from CDN again, or</li>\\n\"+\n     \"<li>use INLINE resources instead, as so:</li>\\n\"+\n     \"</ul>\\n\"+\n     \"<code>\\n\"+\n     \"from bokeh.resources import INLINE\\n\"+\n     \"output_notebook(resources=INLINE)\\n\"+\n     \"</code>\\n\"+\n     \"</div>\"}};\n\n  function display_loaded() {\n    var el = document.getElementById(\"1001\");\n    if (el != null) {\n      el.textContent = \"BokehJS is loading...\";\n    }\n    if (root.Bokeh !== undefined) {\n      if (el != null) {\n        el.textContent = \"BokehJS \" + root.Bokeh.version + \" successfully loaded.\";\n      }\n    } else if (Date.now() < root._bokeh_timeout) {\n      setTimeout(display_loaded, 100)\n    }\n  }\n\n\n  function run_callbacks() {\n    try {\n      root._bokeh_onload_callbacks.forEach(function(callback) {\n        if (callback != null)\n          callback();\n      });\n    } finally {\n      delete root._bokeh_onload_callbacks\n    }\n    console.debug(\"Bokeh: all callbacks have finished\");\n  }\n\n  function load_libs(css_urls, js_urls, callback) {\n    if (css_urls == null) css_urls = [];\n    if (js_urls == null) js_urls = [];\n\n    root._bokeh_onload_callbacks.push(callback);\n    if (root._bokeh_is_loading > 0) {\n      console.debug(\"Bokeh: BokehJS is being loaded, scheduling callback at\", now());\n      return null;\n    }\n    if (js_urls == null || js_urls.length === 0) {\n      run_callbacks();\n      return null;\n    }\n    console.debug(\"Bokeh: BokehJS not loaded, scheduling load and callback at\", now());\n    root._bokeh_is_loading = css_urls.length + js_urls.length;\n\n    function on_load() {\n      root._bokeh_is_loading--;\n      if (root._bokeh_is_loading === 0) {\n        console.debug(\"Bokeh: all BokehJS libraries/stylesheets loaded\");\n        run_callbacks()\n      }\n    }\n\n    function on_error() {\n      console.error(\"failed to load \" + url);\n    }\n\n    for (var i = 0; i < css_urls.length; i++) {\n      var url = css_urls[i];\n      const element = document.createElement(\"link\");\n      element.onload = on_load;\n      element.onerror = on_error;\n      element.rel = \"stylesheet\";\n      element.type = \"text/css\";\n      element.href = url;\n      console.debug(\"Bokeh: injecting link tag for BokehJS stylesheet: \", url);\n      document.body.appendChild(element);\n    }\n\n    for (var i = 0; i < js_urls.length; i++) {\n      var url = js_urls[i];\n      var element = document.createElement('script');\n      element.onload = on_load;\n      element.onerror = on_error;\n      element.async = false;\n      element.src = url;\n      console.debug(\"Bokeh: injecting script tag for BokehJS library: \", url);\n      document.head.appendChild(element);\n    }\n  };var element = document.getElementById(\"1001\");\n  if (element == null) {\n    console.error(\"Bokeh: ERROR: autoload.js configured with elementid '1001' but no matching script tag was found. \")\n    return false;\n  }\n\n  function inject_raw_css(css) {\n    const element = document.createElement(\"style\");\n    element.appendChild(document.createTextNode(css));\n    document.body.appendChild(element);\n  }\n\n  \n  var js_urls = [\"https://cdn.pydata.org/bokeh/release/bokeh-1.4.0.min.js\", \"https://cdn.pydata.org/bokeh/release/bokeh-widgets-1.4.0.min.js\", \"https://cdn.pydata.org/bokeh/release/bokeh-tables-1.4.0.min.js\", \"https://cdn.pydata.org/bokeh/release/bokeh-gl-1.4.0.min.js\"];\n  var css_urls = [];\n  \n\n  var inline_js = [\n    function(Bokeh) {\n      Bokeh.set_log_level(\"info\");\n    },\n    function(Bokeh) {\n    \n    \n    }\n  ];\n\n  function run_inline_js() {\n    \n    if (root.Bokeh !== undefined || force === true) {\n      \n    for (var i = 0; i < inline_js.length; i++) {\n      inline_js[i].call(root, root.Bokeh);\n    }\n    if (force === true) {\n        display_loaded();\n      }} else if (Date.now() < root._bokeh_timeout) {\n      setTimeout(run_inline_js, 100);\n    } else if (!root._bokeh_failed_load) {\n      console.log(\"Bokeh: BokehJS failed to load within specified timeout.\");\n      root._bokeh_failed_load = true;\n    } else if (force !== true) {\n      var cell = $(document.getElementById(\"1001\")).parents('.cell').data().cell;\n      cell.output_area.append_execute_result(NB_LOAD_WARNING)\n    }\n\n  }\n\n  if (root._bokeh_is_loading === 0) {\n    console.debug(\"Bokeh: BokehJS loaded, going straight to plotting\");\n    run_inline_js();\n  } else {\n    load_libs(css_urls, js_urls, function() {\n      console.debug(\"Bokeh: BokehJS plotting callback run at\", now());\n      run_inline_js();\n    });\n  }\n}(window));"
     },
     "metadata": {},
     "output_type": "display_data"
    }
   ],
   "source": [
    "from backtesting.test import SMA"
   ]
  },
  {
   "cell_type": "markdown",
   "metadata": {},
   "source": [
    "Our strategy will be a similar moving average cross-over strategy to the one in\n",
    "[Quick Start User Guide](https://kernc.github.io/backtesting.py/doc/examples/Quick Start User Guide.html),\n",
    "but we will use four moving averages in total:\n",
    "two moving averages whose relationship determines a general trend\n",
    "(we only trade long when the shorter MA is above the longer one, and vice versa),\n",
    "and two moving averages whose cross-over with daily _close_ prices determine the signal to enter or exit the position."
   ]
  },
  {
   "cell_type": "code",
   "execution_count": 2,
   "metadata": {},
   "outputs": [],
   "source": [
    "from backtesting import Strategy\n",
    "from backtesting.lib import crossover\n",
    "\n",
    "\n",
    "class Sma4Cross(Strategy):\n",
    "    n1 = 50\n",
    "    n2 = 100\n",
    "    n_enter = 20\n",
    "    n_exit = 10\n",
    "    \n",
    "    def init(self):\n",
    "        self.sma1 = self.I(SMA, self.data.Close, self.n1)\n",
    "        self.sma2 = self.I(SMA, self.data.Close, self.n2)\n",
    "        self.sma_enter = self.I(SMA, self.data.Close, self.n_enter)\n",
    "        self.sma_exit = self.I(SMA, self.data.Close, self.n_exit)\n",
    "        \n",
    "    def next(self):\n",
    "        \n",
    "        if not self.position:\n",
    "            \n",
    "            # On upwards trend, if price closes above\n",
    "            # \"entry\" MA, go long\n",
    "            \n",
    "            # Here, even though the operands are arrays, this\n",
    "            # works by implicitly comparing the two last values\n",
    "            if self.sma1 > self.sma2:\n",
    "                if crossover(self.data.Close, self.sma_enter):\n",
    "                    self.buy()\n",
    "                    \n",
    "            # On downwards trend, if price closes below\n",
    "            # \"entry\" MA, go short\n",
    "            \n",
    "            else:\n",
    "                if crossover(self.sma_enter, self.data.Close):\n",
    "                    self.sell()\n",
    "        \n",
    "        # But if we already hold a position and the price\n",
    "        # closes back below (above) \"exit\" MA, close the position\n",
    "        \n",
    "        else:\n",
    "            if (self.position.is_long and\n",
    "                crossover(self.sma_exit, self.data.Close)\n",
    "                or\n",
    "                self.position.is_short and\n",
    "                crossover(self.data.Close, self.sma_exit)):\n",
    "                \n",
    "                self.position.close()"
   ]
  },
  {
   "cell_type": "markdown",
   "metadata": {},
   "source": [
    "It's not a robust strategy, but we can optimize it. Let's optimize our strategy on Google stock data."
   ]
  },
  {
   "cell_type": "code",
   "execution_count": 3,
   "metadata": {},
   "outputs": [
    {
     "name": "stderr",
     "output_type": "stream",
     "text": [
      "/home/jk/Documents/projects/trading/python/notebooks/venv/lib/python3.7/site-packages/ipykernel_launcher.py:14: UserWarning: Searching for best of 486 configurations.\n",
      "  \n"
     ]
    },
    {
     "data": {
      "application/vnd.jupyter.widget-view+json": {
       "model_id": "6bc467bbab7b42b797492f9c07ac8d8d",
       "version_major": 2,
       "version_minor": 0
      },
      "text/plain": [
       "HBox(children=(IntProgress(value=0, max=9), HTML(value='')))"
      ]
     },
     "metadata": {},
     "output_type": "display_data"
    },
    {
     "name": "stdout",
     "output_type": "stream",
     "text": [
      "\r",
      "CPU times: user 2.03 s, sys: 131 ms, total: 2.16 s\n",
      "Wall time: 14.6 s\n"
     ]
    }
   ],
   "source": [
    "%%time \n",
    "\n",
    "from backtesting import Backtest\n",
    "from backtesting.test import GOOG\n",
    "\n",
    "\n",
    "backtest = Backtest(GOOG, Sma4Cross, commission=.002)\n",
    "\n",
    "stats, heatmap = backtest.optimize(\n",
    "    n1=range(10, 110, 10),\n",
    "    n2=range(20, 210, 20),\n",
    "    n_enter=range(15, 35, 5),\n",
    "    n_exit=range(10, 25, 5),\n",
    "    constraint=lambda p: p.n_exit < p.n_enter < p.n1 < p.n2,\n",
    "    maximize='Equity Final [$]',\n",
    "    return_heatmap=True)"
   ]
  },
  {
   "cell_type": "markdown",
   "metadata": {},
   "source": [
    "Notice `return_heatmap=True` parameter passed to\n",
    "[`Backtest.optimize()`](https://kernc.github.io/backtesting.py/doc/backtesting/backtesting.html#backtesting.backtesting.Backtest.optimize).\n",
    "It makes the function return a heatmap series along with the usual stats of the best run.\n",
    "`heatmap` is a pandas Series indexed with a MultiIndex, a cartesian product of all permissible parameter values.\n",
    "The series values are from the `maximize=` argument we provided."
   ]
  },
  {
   "cell_type": "code",
   "execution_count": 4,
   "metadata": {},
   "outputs": [
    {
     "data": {
      "text/plain": [
       "n1   n2   n_enter  n_exit\n",
       "20   40   15       10        8830.21\n",
       "     60   15       10       10170.12\n",
       "     80   15       10        9927.16\n",
       "     100  15       10       11028.27\n",
       "     120  15       10       12847.31\n",
       "                              ...   \n",
       "100  200  25       15        9697.27\n",
       "                   20        8358.08\n",
       "          30       10       10064.29\n",
       "                   15        9699.26\n",
       "                   20        7749.66\n",
       "Length: 486, dtype: float64"
      ]
     },
     "execution_count": 4,
     "metadata": {},
     "output_type": "execute_result"
    }
   ],
   "source": [
    "heatmap"
   ]
  },
  {
   "cell_type": "markdown",
   "metadata": {},
   "source": [
    "This heatmap contains the results of all the runs,\n",
    "making it very easy to obtain parameter combinations for e.g. three best runs:"
   ]
  },
  {
   "cell_type": "code",
   "execution_count": 5,
   "metadata": {},
   "outputs": [
    {
     "data": {
      "text/plain": [
       "n1  n2   n_enter  n_exit\n",
       "40  60   25       15       20375.42\n",
       "50  120  20       15       21152.81\n",
       "40  160  20       15       21827.26\n",
       "dtype: float64"
      ]
     },
     "execution_count": 5,
     "metadata": {},
     "output_type": "execute_result"
    }
   ],
   "source": [
    "heatmap.sort_values().iloc[-3:]"
   ]
  },
  {
   "cell_type": "markdown",
   "metadata": {},
   "source": [
    "But we use vision to make judgements on larger data sets much faster.\n",
    "Let's plot the whole heatmap by projecting it on two chosen dimensions.\n",
    "Say we're mostly interested in how parameters `n1` and `n2`, on average, affect the outcome."
   ]
  },
  {
   "cell_type": "code",
   "execution_count": 6,
   "metadata": {},
   "outputs": [
    {
     "data": {
      "text/html": [
       "<div>\n",
       "<style scoped>\n",
       "    .dataframe tbody tr th:only-of-type {\n",
       "        vertical-align: middle;\n",
       "    }\n",
       "\n",
       "    .dataframe tbody tr th {\n",
       "        vertical-align: top;\n",
       "    }\n",
       "\n",
       "    .dataframe thead th {\n",
       "        text-align: right;\n",
       "    }\n",
       "</style>\n",
       "<table border=\"1\" class=\"dataframe\">\n",
       "  <thead>\n",
       "    <tr style=\"text-align: right;\">\n",
       "      <th>n2</th>\n",
       "      <th>40</th>\n",
       "      <th>60</th>\n",
       "      <th>80</th>\n",
       "      <th>100</th>\n",
       "      <th>120</th>\n",
       "      <th>140</th>\n",
       "      <th>160</th>\n",
       "      <th>180</th>\n",
       "      <th>200</th>\n",
       "    </tr>\n",
       "    <tr>\n",
       "      <th>n1</th>\n",
       "      <th></th>\n",
       "      <th></th>\n",
       "      <th></th>\n",
       "      <th></th>\n",
       "      <th></th>\n",
       "      <th></th>\n",
       "      <th></th>\n",
       "      <th></th>\n",
       "      <th></th>\n",
       "    </tr>\n",
       "  </thead>\n",
       "  <tbody>\n",
       "    <tr>\n",
       "      <th>20</th>\n",
       "      <td>8830.21</td>\n",
       "      <td>10170.12</td>\n",
       "      <td>9927.16</td>\n",
       "      <td>11028.27</td>\n",
       "      <td>12847.31</td>\n",
       "      <td>12078.95</td>\n",
       "      <td>13382.94</td>\n",
       "      <td>9618.55</td>\n",
       "      <td>10171.81</td>\n",
       "    </tr>\n",
       "    <tr>\n",
       "      <th>30</th>\n",
       "      <td>11619.13</td>\n",
       "      <td>11894.76</td>\n",
       "      <td>12420.97</td>\n",
       "      <td>13071.36</td>\n",
       "      <td>12329.03</td>\n",
       "      <td>10945.91</td>\n",
       "      <td>12553.26</td>\n",
       "      <td>11034.05</td>\n",
       "      <td>10620.18</td>\n",
       "    </tr>\n",
       "    <tr>\n",
       "      <th>40</th>\n",
       "      <td>nan</td>\n",
       "      <td>14272.37</td>\n",
       "      <td>11323.95</td>\n",
       "      <td>9012.92</td>\n",
       "      <td>11256.39</td>\n",
       "      <td>9626.89</td>\n",
       "      <td>12507.46</td>\n",
       "      <td>10833.92</td>\n",
       "      <td>10157.78</td>\n",
       "    </tr>\n",
       "    <tr>\n",
       "      <th>50</th>\n",
       "      <td>nan</td>\n",
       "      <td>9356.24</td>\n",
       "      <td>10796.13</td>\n",
       "      <td>11742.61</td>\n",
       "      <td>11852.42</td>\n",
       "      <td>10120.88</td>\n",
       "      <td>11636.25</td>\n",
       "      <td>10814.97</td>\n",
       "      <td>9837.59</td>\n",
       "    </tr>\n",
       "    <tr>\n",
       "      <th>60</th>\n",
       "      <td>nan</td>\n",
       "      <td>nan</td>\n",
       "      <td>9998.07</td>\n",
       "      <td>11022.69</td>\n",
       "      <td>9629.43</td>\n",
       "      <td>10893.79</td>\n",
       "      <td>11329.50</td>\n",
       "      <td>10542.65</td>\n",
       "      <td>9762.27</td>\n",
       "    </tr>\n",
       "    <tr>\n",
       "      <th>70</th>\n",
       "      <td>nan</td>\n",
       "      <td>nan</td>\n",
       "      <td>11030.96</td>\n",
       "      <td>9565.77</td>\n",
       "      <td>9897.58</td>\n",
       "      <td>10802.57</td>\n",
       "      <td>11396.63</td>\n",
       "      <td>10059.42</td>\n",
       "      <td>8797.13</td>\n",
       "    </tr>\n",
       "    <tr>\n",
       "      <th>80</th>\n",
       "      <td>nan</td>\n",
       "      <td>nan</td>\n",
       "      <td>nan</td>\n",
       "      <td>10220.07</td>\n",
       "      <td>10267.49</td>\n",
       "      <td>10337.36</td>\n",
       "      <td>11116.26</td>\n",
       "      <td>10260.01</td>\n",
       "      <td>9667.84</td>\n",
       "    </tr>\n",
       "    <tr>\n",
       "      <th>90</th>\n",
       "      <td>nan</td>\n",
       "      <td>nan</td>\n",
       "      <td>nan</td>\n",
       "      <td>11186.91</td>\n",
       "      <td>11220.07</td>\n",
       "      <td>10346.84</td>\n",
       "      <td>11162.92</td>\n",
       "      <td>10581.61</td>\n",
       "      <td>10255.02</td>\n",
       "    </tr>\n",
       "    <tr>\n",
       "      <th>100</th>\n",
       "      <td>nan</td>\n",
       "      <td>nan</td>\n",
       "      <td>nan</td>\n",
       "      <td>nan</td>\n",
       "      <td>11866.30</td>\n",
       "      <td>9522.71</td>\n",
       "      <td>11649.01</td>\n",
       "      <td>10162.99</td>\n",
       "      <td>10612.87</td>\n",
       "    </tr>\n",
       "  </tbody>\n",
       "</table>\n",
       "</div>"
      ],
      "text/plain": [
       "n2       40       60       80       100      120      140      160      180  \\\n",
       "n1                                                                            \n",
       "20   8830.21 10170.12  9927.16 11028.27 12847.31 12078.95 13382.94  9618.55   \n",
       "30  11619.13 11894.76 12420.97 13071.36 12329.03 10945.91 12553.26 11034.05   \n",
       "40       nan 14272.37 11323.95  9012.92 11256.39  9626.89 12507.46 10833.92   \n",
       "50       nan  9356.24 10796.13 11742.61 11852.42 10120.88 11636.25 10814.97   \n",
       "60       nan      nan  9998.07 11022.69  9629.43 10893.79 11329.50 10542.65   \n",
       "70       nan      nan 11030.96  9565.77  9897.58 10802.57 11396.63 10059.42   \n",
       "80       nan      nan      nan 10220.07 10267.49 10337.36 11116.26 10260.01   \n",
       "90       nan      nan      nan 11186.91 11220.07 10346.84 11162.92 10581.61   \n",
       "100      nan      nan      nan      nan 11866.30  9522.71 11649.01 10162.99   \n",
       "\n",
       "n2       200  \n",
       "n1            \n",
       "20  10171.81  \n",
       "30  10620.18  \n",
       "40  10157.78  \n",
       "50   9837.59  \n",
       "60   9762.27  \n",
       "70   8797.13  \n",
       "80   9667.84  \n",
       "90  10255.02  \n",
       "100 10612.87  "
      ]
     },
     "execution_count": 6,
     "metadata": {},
     "output_type": "execute_result"
    }
   ],
   "source": [
    "hm = heatmap.groupby(['n1', 'n2']).mean().unstack()\n",
    "hm"
   ]
  },
  {
   "cell_type": "markdown",
   "metadata": {},
   "source": [
    "Let's plot this table using the excellent [_Seaborn_](https://seaborn.pydata.org) package:"
   ]
  },
  {
   "cell_type": "code",
   "execution_count": 7,
   "metadata": {
    "scrolled": false
   },
   "outputs": [
    {
     "data": {
      "text/plain": [
       "<matplotlib.axes._subplots.AxesSubplot at 0x7f8acab0dda0>"
      ]
     },
     "execution_count": 7,
     "metadata": {},
     "output_type": "execute_result"
    },
    {
     "data": {
      "image/png": "[encoded data removed]",
      "text/plain": [
       "<Figure size 432x288 with 2 Axes>"
      ]
     },
     "metadata": {
      "needs_background": "light"
     },
     "output_type": "display_data"
    }
   ],
   "source": [
    "%matplotlib inline\n",
    "\n",
    "import seaborn as sns\n",
    "\n",
    "\n",
    "sns.heatmap(hm[::-1], cmap='viridis')"
   ]
  },
  {
   "cell_type": "markdown",
   "metadata": {},
   "source": [
    "We see that, on average, we obtain the highest result using trend-determining parameters `n1=40` and `n2=60`,\n",
    "and it's not like other nearby combinations work similarly well — in our particular strategy, this combination really stands out.\n",
    "\n",
    "Since our strategy contains several parameters, we might be interested in other relationships between their values.\n",
    "We can use\n",
    "[`backtesting.lib.plot_heatmaps()`](https://kernc.github.io/backtesting.py/doc/backtesting/lib.html#backtesting.lib.plot_heatmaps)\n",
    "function to plot interactive heatmaps of all parameter combinations simultaneously."
   ]
  },
  {
   "cell_type": "code",
   "execution_count": 8,
   "metadata": {},
   "outputs": [
    {
     "data": {
      "text/html": [
       "\n",
       "\n",
       "\n",
       "\n",
       "\n",
       "\n",
       "  <div class=\"bk-root\" id=\"ebf97b70-abfe-4d7a-ae30-f857fe4dfb12\" data-root-id=\"1258\"></div>\n"
      ]
     },
     "metadata": {},
     "output_type": "display_data"
    },
    {
     "data": {
      "application/javascript": [
       "(function(root) {\n",
       "  function embed_document(root) {\n",
       "    \n",
       "  var docs_json = {\"2b33a75e-d2b7-4da4-bbd1-5f50fc8c5e74\":{\"roots\":{\"references\":[{\"attributes\":{\"children\":[{\"id\":\"1257\",\"type\":\"ToolbarBox\"},{\"id\":\"1255\",\"type\":\"GridBox\"}]},\"id\":\"1258\",\"type\":\"Column\"},{\"attributes\":{},\"id\":\"1241\",\"type\":\"Selection\"},{\"attributes\":{},\"id\":\"1242\",\"type\":\"UnionRenderers\"},{\"attributes\":{\"bottom_units\":\"screen\",\"fill_alpha\":{\"value\":0.5},\"fill_color\":{\"value\":\"lightgrey\"},\"left_units\":\"screen\",\"level\":\"overlay\",\"line_alpha\":{\"value\":1.0},\"line_color\":{\"value\":\"black\"},\"line_dash\":[4,4],\"line_width\":{\"value\":2},\"render_mode\":\"css\",\"right_units\":\"screen\",\"top_units\":\"screen\"},\"id\":\"1243\",\"type\":\"BoxAnnotation\"},{\"attributes\":{},\"id\":\"1209\",\"type\":\"CategoricalTickFormatter\"},{\"attributes\":{\"text\":\"\"},\"id\":\"1245\",\"type\":\"Title\"},{\"attributes\":{},\"id\":\"1247\",\"type\":\"CategoricalTickFormatter\"},{\"attributes\":{\"high\":17104.794710000002,\"low\":7841.037620000003,\"nan_color\":\"white\",\"palette\":[\"#440154\",\"#440255\",\"#440357\",\"#450558\",\"#45065A\",\"#45085B\",\"#46095C\",\"#460B5E\",\"#460C5F\",\"#460E61\",\"#470F62\",\"#471163\",\"#471265\",\"#471466\",\"#471567\",\"#471669\",\"#47186A\",\"#48196B\",\"#481A6C\",\"#481C6E\",\"#481D6F\",\"#481E70\",\"#482071\",\"#482172\",\"#482273\",\"#482374\",\"#472575\",\"#472676\",\"#472777\",\"#472878\",\"#472A79\",\"#472B7A\",\"#472C7B\",\"#462D7C\",\"#462F7C\",\"#46307D\",\"#46317E\",\"#45327F\",\"#45347F\",\"#453580\",\"#453681\",\"#443781\",\"#443982\",\"#433A83\",\"#433B83\",\"#433C84\",\"#423D84\",\"#423E85\",\"#424085\",\"#414186\",\"#414286\",\"#404387\",\"#404487\",\"#3F4587\",\"#3F4788\",\"#3E4888\",\"#3E4989\",\"#3D4A89\",\"#3D4B89\",\"#3D4C89\",\"#3C4D8A\",\"#3C4E8A\",\"#3B508A\",\"#3B518A\",\"#3A528B\",\"#3A538B\",\"#39548B\",\"#39558B\",\"#38568B\",\"#38578C\",\"#37588C\",\"#37598C\",\"#365A8C\",\"#365B8C\",\"#355C8C\",\"#355D8C\",\"#345E8D\",\"#345F8D\",\"#33608D\",\"#33618D\",\"#32628D\",\"#32638D\",\"#31648D\",\"#31658D\",\"#31668D\",\"#30678D\",\"#30688D\",\"#2F698D\",\"#2F6A8D\",\"#2E6B8E\",\"#2E6C8E\",\"#2E6D8E\",\"#2D6E8E\",\"#2D6F8E\",\"#2C708E\",\"#2C718E\",\"#2C728E\",\"#2B738E\",\"#2B748E\",\"#2A758E\",\"#2A768E\",\"#2A778E\",\"#29788E\",\"#29798E\",\"#287A8E\",\"#287A8E\",\"#287B8E\",\"#277C8E\",\"#277D8E\",\"#277E8E\",\"#267F8E\",\"#26808E\",\"#26818E\",\"#25828E\",\"#25838D\",\"#24848D\",\"#24858D\",\"#24868D\",\"#23878D\",\"#23888D\",\"#23898D\",\"#22898D\",\"#228A8D\",\"#228B8D\",\"#218C8D\",\"#218D8C\",\"#218E8C\",\"#208F8C\",\"#20908C\",\"#20918C\",\"#1F928C\",\"#1F938B\",\"#1F948B\",\"#1F958B\",\"#1F968B\",\"#1E978A\",\"#1E988A\",\"#1E998A\",\"#1E998A\",\"#1E9A89\",\"#1E9B89\",\"#1E9C89\",\"#1E9D88\",\"#1E9E88\",\"#1E9F88\",\"#1EA087\",\"#1FA187\",\"#1FA286\",\"#1FA386\",\"#20A485\",\"#20A585\",\"#21A685\",\"#21A784\",\"#22A784\",\"#23A883\",\"#23A982\",\"#24AA82\",\"#25AB81\",\"#26AC81\",\"#27AD80\",\"#28AE7F\",\"#29AF7F\",\"#2AB07E\",\"#2BB17D\",\"#2CB17D\",\"#2EB27C\",\"#2FB37B\",\"#30B47A\",\"#32B57A\",\"#33B679\",\"#35B778\",\"#36B877\",\"#38B976\",\"#39B976\",\"#3BBA75\",\"#3DBB74\",\"#3EBC73\",\"#40BD72\",\"#42BE71\",\"#44BE70\",\"#45BF6F\",\"#47C06E\",\"#49C16D\",\"#4BC26C\",\"#4DC26B\",\"#4FC369\",\"#51C468\",\"#53C567\",\"#55C666\",\"#57C665\",\"#59C764\",\"#5BC862\",\"#5EC961\",\"#60C960\",\"#62CA5F\",\"#64CB5D\",\"#67CC5C\",\"#69CC5B\",\"#6BCD59\",\"#6DCE58\",\"#70CE56\",\"#72CF55\",\"#74D054\",\"#77D052\",\"#79D151\",\"#7CD24F\",\"#7ED24E\",\"#81D34C\",\"#83D34B\",\"#86D449\",\"#88D547\",\"#8BD546\",\"#8DD644\",\"#90D643\",\"#92D741\",\"#95D73F\",\"#97D83E\",\"#9AD83C\",\"#9DD93A\",\"#9FD938\",\"#A2DA37\",\"#A5DA35\",\"#A7DB33\",\"#AADB32\",\"#ADDC30\",\"#AFDC2E\",\"#B2DD2C\",\"#B5DD2B\",\"#B7DD29\",\"#BADE27\",\"#BDDE26\",\"#BFDF24\",\"#C2DF22\",\"#C5DF21\",\"#C7E01F\",\"#CAE01E\",\"#CDE01D\",\"#CFE11C\",\"#D2E11B\",\"#D4E11A\",\"#D7E219\",\"#DAE218\",\"#DCE218\",\"#DFE318\",\"#E1E318\",\"#E4E318\",\"#E7E419\",\"#E9E419\",\"#ECE41A\",\"#EEE51B\",\"#F1E51C\",\"#F3E51E\",\"#F6E61F\",\"#F8E621\",\"#FAE622\",\"#FDE724\"]},\"id\":\"1002\",\"type\":\"LinearColorMapper\"},{\"attributes\":{\"fill_alpha\":{\"value\":0.1},\"fill_color\":{\"value\":\"#1f77b4\"},\"height\":{\"units\":\"data\",\"value\":1},\"line_alpha\":{\"value\":0.1},\"line_color\":{\"value\":\"#1f77b4\"},\"width\":{\"units\":\"data\",\"value\":1},\"x\":{\"field\":\"n2\"},\"y\":{\"field\":\"n_enter\"}},\"id\":\"1128\",\"type\":\"Rect\"},{\"attributes\":{},\"id\":\"1249\",\"type\":\"CategoricalTickFormatter\"},{\"attributes\":{\"callback\":null,\"factors\":[\"40\",\"60\",\"80\",\"100\",\"120\",\"140\",\"160\",\"180\",\"200\"]},\"id\":\"1100\",\"type\":\"FactorRange\"},{\"attributes\":{},\"id\":\"1251\",\"type\":\"Selection\"},{\"attributes\":{\"callback\":null,\"factors\":[\"15\",\"20\",\"25\",\"30\"]},\"id\":\"1102\",\"type\":\"FactorRange\"},{\"attributes\":{},\"id\":\"1252\",\"type\":\"UnionRenderers\"},{\"attributes\":{},\"id\":\"1104\",\"type\":\"CategoricalScale\"},{\"attributes\":{\"bottom_units\":\"screen\",\"fill_alpha\":{\"value\":0.5},\"fill_color\":{\"value\":\"lightgrey\"},\"left_units\":\"screen\",\"level\":\"overlay\",\"line_alpha\":{\"value\":1.0},\"line_color\":{\"value\":\"black\"},\"line_dash\":[4,4],\"line_width\":{\"value\":2},\"render_mode\":\"css\",\"right_units\":\"screen\",\"top_units\":\"screen\"},\"id\":\"1253\",\"type\":\"BoxAnnotation\"},{\"attributes\":{},\"id\":\"1106\",\"type\":\"CategoricalScale\"},{\"attributes\":{\"fill_color\":{\"field\":\"_Value\",\"transform\":{\"id\":\"1002\",\"type\":\"LinearColorMapper\"}},\"height\":{\"units\":\"data\",\"value\":1},\"line_color\":{\"value\":null},\"width\":{\"units\":\"data\",\"value\":1},\"x\":{\"field\":\"n1\"},\"y\":{\"field\":\"n2\"}},\"id\":\"1031\",\"type\":\"Rect\"},{\"attributes\":{\"below\":[{\"id\":\"1044\",\"type\":\"CategoricalAxis\"}],\"center\":[{\"id\":\"1047\",\"type\":\"Grid\"},{\"id\":\"1051\",\"type\":\"Grid\"}],\"left\":[{\"id\":\"1048\",\"type\":\"CategoricalAxis\"}],\"plot_height\":400,\"plot_width\":400,\"renderers\":[{\"id\":\"1065\",\"type\":\"GlyphRenderer\"}],\"title\":{\"id\":\"1205\",\"type\":\"Title\"},\"toolbar\":{\"id\":\"1056\",\"type\":\"Toolbar\"},\"toolbar_location\":null,\"x_range\":{\"id\":\"1036\",\"type\":\"FactorRange\"},\"x_scale\":{\"id\":\"1040\",\"type\":\"CategoricalScale\"},\"y_range\":{\"id\":\"1038\",\"type\":\"FactorRange\"},\"y_scale\":{\"id\":\"1042\",\"type\":\"CategoricalScale\"}},\"id\":\"1035\",\"subtype\":\"Figure\",\"type\":\"Plot\"},{\"attributes\":{\"fill_alpha\":{\"value\":0.1},\"fill_color\":{\"value\":\"#1f77b4\"},\"height\":{\"units\":\"data\",\"value\":1},\"line_alpha\":{\"value\":0.1},\"line_color\":{\"value\":\"#1f77b4\"},\"width\":{\"units\":\"data\",\"value\":1},\"x\":{\"field\":\"n1\"},\"y\":{\"field\":\"n2\"}},\"id\":\"1032\",\"type\":\"Rect\"},{\"attributes\":{\"below\":[{\"id\":\"1012\",\"type\":\"CategoricalAxis\"}],\"center\":[{\"id\":\"1015\",\"type\":\"Grid\"},{\"id\":\"1019\",\"type\":\"Grid\"}],\"left\":[{\"id\":\"1016\",\"type\":\"CategoricalAxis\"}],\"plot_height\":400,\"plot_width\":400,\"renderers\":[{\"id\":\"1033\",\"type\":\"GlyphRenderer\"}],\"title\":{\"id\":\"1195\",\"type\":\"Title\"},\"toolbar\":{\"id\":\"1024\",\"type\":\"Toolbar\"},\"toolbar_location\":null,\"x_range\":{\"id\":\"1004\",\"type\":\"FactorRange\"},\"x_scale\":{\"id\":\"1008\",\"type\":\"CategoricalScale\"},\"y_range\":{\"id\":\"1006\",\"type\":\"FactorRange\"},\"y_scale\":{\"id\":\"1010\",\"type\":\"CategoricalScale\"}},\"id\":\"1003\",\"subtype\":\"Figure\",\"type\":\"Plot\"},{\"attributes\":{\"axis_label\":\"n2\",\"axis_line_color\":{\"value\":null},\"formatter\":{\"id\":\"1227\",\"type\":\"CategoricalTickFormatter\"},\"major_label_standoff\":0,\"major_tick_line_color\":{\"value\":null},\"ticker\":{\"id\":\"1109\",\"type\":\"CategoricalTicker\"}},\"id\":\"1108\",\"type\":\"CategoricalAxis\"},{\"attributes\":{\"fill_color\":{\"field\":\"_Value\",\"transform\":{\"id\":\"1002\",\"type\":\"LinearColorMapper\"}},\"height\":{\"units\":\"data\",\"value\":1},\"line_color\":{\"value\":null},\"width\":{\"units\":\"data\",\"value\":1},\"x\":{\"field\":\"n2\"},\"y\":{\"field\":\"n_exit\"}},\"id\":\"1159\",\"type\":\"Rect\"},{\"attributes\":{\"logo\":null,\"tools\":[{\"id\":\"1020\",\"type\":\"BoxZoomTool\"},{\"id\":\"1021\",\"type\":\"ResetTool\"},{\"id\":\"1022\",\"type\":\"SaveTool\"},{\"id\":\"1023\",\"type\":\"HoverTool\"},{\"id\":\"1052\",\"type\":\"BoxZoomTool\"},{\"id\":\"1053\",\"type\":\"ResetTool\"},{\"id\":\"1054\",\"type\":\"SaveTool\"},{\"id\":\"1055\",\"type\":\"HoverTool\"},{\"id\":\"1084\",\"type\":\"BoxZoomTool\"},{\"id\":\"1085\",\"type\":\"ResetTool\"},{\"id\":\"1086\",\"type\":\"SaveTool\"},{\"id\":\"1087\",\"type\":\"HoverTool\"},{\"id\":\"1116\",\"type\":\"BoxZoomTool\"},{\"id\":\"1117\",\"type\":\"ResetTool\"},{\"id\":\"1118\",\"type\":\"SaveTool\"},{\"id\":\"1119\",\"type\":\"HoverTool\"},{\"id\":\"1148\",\"type\":\"BoxZoomTool\"},{\"id\":\"1149\",\"type\":\"ResetTool\"},{\"id\":\"1150\",\"type\":\"SaveTool\"},{\"id\":\"1151\",\"type\":\"HoverTool\"},{\"id\":\"1180\",\"type\":\"BoxZoomTool\"},{\"id\":\"1181\",\"type\":\"ResetTool\"},{\"id\":\"1182\",\"type\":\"SaveTool\"},{\"id\":\"1183\",\"type\":\"HoverTool\"}]},\"id\":\"1256\",\"type\":\"ProxyToolbar\"},{\"attributes\":{\"callback\":null,\"factors\":[\"20\",\"30\",\"40\",\"50\",\"60\",\"70\",\"80\",\"90\",\"100\"]},\"id\":\"1004\",\"type\":\"FactorRange\"},{\"attributes\":{},\"id\":\"1109\",\"type\":\"CategoricalTicker\"},{\"attributes\":{\"callback\":null,\"factors\":[\"40\",\"60\",\"80\",\"100\",\"120\",\"140\",\"160\",\"180\",\"200\"]},\"id\":\"1006\",\"type\":\"FactorRange\"},{\"attributes\":{\"grid_line_color\":null,\"ticker\":{\"id\":\"1109\",\"type\":\"CategoricalTicker\"}},\"id\":\"1111\",\"type\":\"Grid\"},{\"attributes\":{},\"id\":\"1081\",\"type\":\"CategoricalTicker\"},{\"attributes\":{},\"id\":\"1008\",\"type\":\"CategoricalScale\"},{\"attributes\":{\"axis_label\":\"n_enter\",\"axis_line_color\":{\"value\":null},\"formatter\":{\"id\":\"1229\",\"type\":\"CategoricalTickFormatter\"},\"major_label_standoff\":0,\"major_tick_line_color\":{\"value\":null},\"ticker\":{\"id\":\"1113\",\"type\":\"CategoricalTicker\"}},\"id\":\"1112\",\"type\":\"CategoricalAxis\"},{\"attributes\":{},\"id\":\"1239\",\"type\":\"CategoricalTickFormatter\"},{\"attributes\":{},\"id\":\"1010\",\"type\":\"CategoricalScale\"},{\"attributes\":{},\"id\":\"1113\",\"type\":\"CategoricalTicker\"},{\"attributes\":{\"toolbar\":{\"id\":\"1256\",\"type\":\"ProxyToolbar\"},\"toolbar_location\":\"above\"},\"id\":\"1257\",\"type\":\"ToolbarBox\"},{\"attributes\":{\"axis_label\":\"n1\",\"axis_line_color\":{\"value\":null},\"formatter\":{\"id\":\"1197\",\"type\":\"CategoricalTickFormatter\"},\"major_label_standoff\":0,\"major_tick_line_color\":{\"value\":null},\"ticker\":{\"id\":\"1013\",\"type\":\"CategoricalTicker\"}},\"id\":\"1012\",\"type\":\"CategoricalAxis\"},{\"attributes\":{\"dimension\":1,\"grid_line_color\":null,\"ticker\":{\"id\":\"1113\",\"type\":\"CategoricalTicker\"}},\"id\":\"1115\",\"type\":\"Grid\"},{\"attributes\":{},\"id\":\"1013\",\"type\":\"CategoricalTicker\"},{\"attributes\":{\"callback\":null,\"data\":{\"_Value\":{\"__ndarray__\":\"ZsdGIJb7wkC6Cik/Hb7FQNs3vvZc/MdA7/8c5t1gxUA8bFuULc3JQOVliR3n1MlAcb1a2z33wED429eBc5PGQNK6Rsv9qMhA+pLZM25Bx0CM8AnscgvAQA1WDi1faMtAd6hdD+19y0AelBkbXabCQAWLrT5yVL9AMpuI4GzFzEBs44i1b4zMQBSwMFfD/cFAGzELwwEKwUAA1qfNDlvKQBPHuri5L8xAsN12oQmhvkDQ7FPmNO/AQGeuve2NZ8xA9FSH3DK00EDhUrtMUILBQBuq/0WwPsJAVvOkrsmDxUBbS8iH0NfJQDME2jDJp8JAOxqmjMkjwkCVkbOw5xjEQFvhXS73tshA+jIr7sffwECkVJx9EPrBQA==\",\"dtype\":\"float64\",\"shape\":[35]},\"index\":[0,1,2,3,4,5,6,7,8,9,10,11,12,13,14,15,16,17,18,19,20,21,22,23,24,25,26,27,28,29,30,31,32,33,34],\"n2\":[\"40\",\"40\",\"40\",\"60\",\"60\",\"60\",\"60\",\"80\",\"80\",\"80\",\"80\",\"100\",\"100\",\"100\",\"100\",\"120\",\"120\",\"120\",\"120\",\"140\",\"140\",\"140\",\"140\",\"160\",\"160\",\"160\",\"160\",\"180\",\"180\",\"180\",\"180\",\"200\",\"200\",\"200\",\"200\"],\"n_enter\":[\"15\",\"20\",\"25\",\"15\",\"20\",\"25\",\"30\",\"15\",\"20\",\"25\",\"30\",\"15\",\"20\",\"25\",\"30\",\"15\",\"20\",\"25\",\"30\",\"15\",\"20\",\"25\",\"30\",\"15\",\"20\",\"25\",\"30\",\"15\",\"20\",\"25\",\"30\",\"15\",\"20\",\"25\",\"30\"]},\"selected\":{\"id\":\"1231\",\"type\":\"Selection\"},\"selection_policy\":{\"id\":\"1232\",\"type\":\"UnionRenderers\"}},\"id\":\"1125\",\"type\":\"ColumnDataSource\"},{\"attributes\":{\"grid_line_color\":null,\"ticker\":{\"id\":\"1013\",\"type\":\"CategoricalTicker\"}},\"id\":\"1015\",\"type\":\"Grid\"},{\"attributes\":{\"active_drag\":\"auto\",\"active_inspect\":\"auto\",\"active_multi\":null,\"active_scroll\":\"auto\",\"active_tap\":\"auto\",\"tools\":[{\"id\":\"1116\",\"type\":\"BoxZoomTool\"},{\"id\":\"1117\",\"type\":\"ResetTool\"},{\"id\":\"1118\",\"type\":\"SaveTool\"},{\"id\":\"1119\",\"type\":\"HoverTool\"}]},\"id\":\"1120\",\"type\":\"Toolbar\"},{\"attributes\":{\"overlay\":{\"id\":\"1233\",\"type\":\"BoxAnnotation\"}},\"id\":\"1116\",\"type\":\"BoxZoomTool\"},{\"attributes\":{\"axis_label\":\"n2\",\"axis_line_color\":{\"value\":null},\"formatter\":{\"id\":\"1199\",\"type\":\"CategoricalTickFormatter\"},\"major_label_standoff\":0,\"major_tick_line_color\":{\"value\":null},\"ticker\":{\"id\":\"1017\",\"type\":\"CategoricalTicker\"}},\"id\":\"1016\",\"type\":\"CategoricalAxis\"},{\"attributes\":{},\"id\":\"1117\",\"type\":\"ResetTool\"},{\"attributes\":{},\"id\":\"1017\",\"type\":\"CategoricalTicker\"},{\"attributes\":{},\"id\":\"1118\",\"type\":\"SaveTool\"},{\"attributes\":{\"dimension\":1,\"grid_line_color\":null,\"ticker\":{\"id\":\"1017\",\"type\":\"CategoricalTicker\"}},\"id\":\"1019\",\"type\":\"Grid\"},{\"attributes\":{\"callback\":null,\"tooltips\":[[\"n2\",\"@n2\"],[\"n_enter\",\"@n_enter\"],[\"Value\",\"@_Value{0.[000]}\"]]},\"id\":\"1119\",\"type\":\"HoverTool\"},{\"attributes\":{\"below\":[{\"id\":\"1108\",\"type\":\"CategoricalAxis\"}],\"center\":[{\"id\":\"1111\",\"type\":\"Grid\"},{\"id\":\"1115\",\"type\":\"Grid\"}],\"left\":[{\"id\":\"1112\",\"type\":\"CategoricalAxis\"}],\"plot_height\":400,\"plot_width\":400,\"renderers\":[{\"id\":\"1129\",\"type\":\"GlyphRenderer\"}],\"title\":{\"id\":\"1225\",\"type\":\"Title\"},\"toolbar\":{\"id\":\"1120\",\"type\":\"Toolbar\"},\"toolbar_location\":null,\"x_range\":{\"id\":\"1100\",\"type\":\"FactorRange\"},\"x_scale\":{\"id\":\"1104\",\"type\":\"CategoricalScale\"},\"y_range\":{\"id\":\"1102\",\"type\":\"FactorRange\"},\"y_scale\":{\"id\":\"1106\",\"type\":\"CategoricalScale\"}},\"id\":\"1099\",\"subtype\":\"Figure\",\"type\":\"Plot\"},{\"attributes\":{\"callback\":null,\"data\":{\"_Value\":{\"__ndarray__\":\"f8ucLhs/wUDfUDHOD93DQJXFxOaTY8NApbQ3+CKKxUDkZ1w4qBfJQEaGVbx5l8dA04uhnHgjykCXGARWRsnCQLOxS1Tn3cNAY5W/aJCxxkBItvP9YDvHQPWUr957QshAO/4ez62HyUDhBTc/gxTIQDE+psj0YMVALNfIm6GEyEBBZkE7Bo3FQFSn8I0WvsRALgXzuS/gy0AnYOxb+R3GQOfz2WN2msFAJSh+jDH8xUClmgqPcc3CQLxblZO6bchA2CsGIvYoxUB4Utd45NbDQKKkrTcfRsJAQCSPuhAWxUD2P3GeTe/GQDa2Jj82JsdAeoLqDHHEw0DPN2aKH7rGQIXlC6l8H8VAEgES/ss2w0C2lHvjCIfDQDiWhxBYh8VAX90AlbbOwkAuG8OJ5UbFQDRJjrC/IMZAnkHOrFOXxEDDhXhzIhHDQDGwKcx6i8VAVOfs2eKuwkDU35qdyVTDQAy07OdIGcVAVIYie1BCxkBlJskRtqXDQLxkCViQLsFAYVX2XQn2w0AqdY1Hvw3EQKdpPWmuMMRA+LqqdyG2xUBedNv6AArEQIbA4Pzq4cJAJMi2W3TZxUAsi/4fCerFQFfjMElrNcRAgTo0jnXNxUCkvJIzzqrEQJLVOEyCB8RACD5V5yUtx0CMpModW5nCQGQy4N2AwMZAUwkALH7Zw0BX39Ovb7rEQA==\",\"dtype\":\"float64\",\"shape\":[65]},\"index\":[0,1,2,3,4,5,6,7,8,9,10,11,12,13,14,15,16,17,18,19,20,21,22,23,24,25,26,27,28,29,30,31,32,33,34,35,36,37,38,39,40,41,42,43,44,45,46,47,48,49,50,51,52,53,54,55,56,57,58,59,60,61,62,63,64],\"n1\":[\"20\",\"20\",\"20\",\"20\",\"20\",\"20\",\"20\",\"20\",\"20\",\"30\",\"30\",\"30\",\"30\",\"30\",\"30\",\"30\",\"30\",\"30\",\"40\",\"40\",\"40\",\"40\",\"40\",\"40\",\"40\",\"40\",\"50\",\"50\",\"50\",\"50\",\"50\",\"50\",\"50\",\"50\",\"60\",\"60\",\"60\",\"60\",\"60\",\"60\",\"60\",\"70\",\"70\",\"70\",\"70\",\"70\",\"70\",\"70\",\"80\",\"80\",\"80\",\"80\",\"80\",\"80\",\"90\",\"90\",\"90\",\"90\",\"90\",\"90\",\"100\",\"100\",\"100\",\"100\",\"100\"],\"n2\":[\"40\",\"60\",\"80\",\"100\",\"120\",\"140\",\"160\",\"180\",\"200\",\"40\",\"60\",\"80\",\"100\",\"120\",\"140\",\"160\",\"180\",\"200\",\"60\",\"80\",\"100\",\"120\",\"140\",\"160\",\"180\",\"200\",\"60\",\"80\",\"100\",\"120\",\"140\",\"160\",\"180\",\"200\",\"80\",\"100\",\"120\",\"140\",\"160\",\"180\",\"200\",\"80\",\"100\",\"120\",\"140\",\"160\",\"180\",\"200\",\"100\",\"120\",\"140\",\"160\",\"180\",\"200\",\"100\",\"120\",\"140\",\"160\",\"180\",\"200\",\"120\",\"140\",\"160\",\"180\",\"200\"]},\"selected\":{\"id\":\"1201\",\"type\":\"Selection\"},\"selection_policy\":{\"id\":\"1202\",\"type\":\"UnionRenderers\"}},\"id\":\"1029\",\"type\":\"ColumnDataSource\"},{\"attributes\":{\"active_drag\":\"auto\",\"active_inspect\":\"auto\",\"active_multi\":null,\"active_scroll\":\"auto\",\"active_tap\":\"auto\",\"tools\":[{\"id\":\"1020\",\"type\":\"BoxZoomTool\"},{\"id\":\"1021\",\"type\":\"ResetTool\"},{\"id\":\"1022\",\"type\":\"SaveTool\"},{\"id\":\"1023\",\"type\":\"HoverTool\"}]},\"id\":\"1024\",\"type\":\"Toolbar\"},{\"attributes\":{\"callback\":null,\"data\":{\"_Value\":{\"__ndarray__\":\"wOeHEYo8xEB124XmIknLQOn17o8P5MFAM+BSu8z4xED39xkXRmvKQPKo+L9DUcZAMmtigWHrwkDCWCD8uM7HQEjKZQWjhsdAV3ffs+R8xECLAKd3IVHHQO78Z6omSsJARwkzbeAlxkBWgeKyIKbGQFcYNXLAYMJAcbJGPV5OxEB7UNPVcgbFQCrzaSgwiMJA+o2v/eHxxkD2p8IsOynJQGOT6b2mtMJAcEPF+Cj9w0CmppKOcYzHQLvCbzDh98BAm/p5043dwkBWuPAVMHPGQF4S9YKv1b9A\",\"dtype\":\"float64\",\"shape\":[27]},\"index\":[0,1,2,3,4,5,6,7,8,9,10,11,12,13,14,15,16,17,18,19,20,21,22,23,24,25,26],\"n2\":[\"40\",\"40\",\"40\",\"60\",\"60\",\"60\",\"80\",\"80\",\"80\",\"100\",\"100\",\"100\",\"120\",\"120\",\"120\",\"140\",\"140\",\"140\",\"160\",\"160\",\"160\",\"180\",\"180\",\"180\",\"200\",\"200\",\"200\"],\"n_exit\":[\"10\",\"15\",\"20\",\"10\",\"15\",\"20\",\"10\",\"15\",\"20\",\"10\",\"15\",\"20\",\"10\",\"15\",\"20\",\"10\",\"15\",\"20\",\"10\",\"15\",\"20\",\"10\",\"15\",\"20\",\"10\",\"15\",\"20\"]},\"selected\":{\"id\":\"1241\",\"type\":\"Selection\"},\"selection_policy\":{\"id\":\"1242\",\"type\":\"UnionRenderers\"}},\"id\":\"1157\",\"type\":\"ColumnDataSource\"},{\"attributes\":{\"active_drag\":\"auto\",\"active_inspect\":\"auto\",\"active_multi\":null,\"active_scroll\":\"auto\",\"active_tap\":\"auto\",\"tools\":[{\"id\":\"1148\",\"type\":\"BoxZoomTool\"},{\"id\":\"1149\",\"type\":\"ResetTool\"},{\"id\":\"1150\",\"type\":\"SaveTool\"},{\"id\":\"1151\",\"type\":\"HoverTool\"}]},\"id\":\"1152\",\"type\":\"Toolbar\"},{\"attributes\":{\"overlay\":{\"id\":\"1203\",\"type\":\"BoxAnnotation\"}},\"id\":\"1020\",\"type\":\"BoxZoomTool\"},{\"attributes\":{\"data_source\":{\"id\":\"1125\",\"type\":\"ColumnDataSource\"},\"glyph\":{\"id\":\"1127\",\"type\":\"Rect\"},\"hover_glyph\":null,\"muted_glyph\":null,\"nonselection_glyph\":{\"id\":\"1128\",\"type\":\"Rect\"},\"selection_glyph\":null,\"view\":{\"id\":\"1130\",\"type\":\"CDSView\"}},\"id\":\"1129\",\"type\":\"GlyphRenderer\"},{\"attributes\":{},\"id\":\"1021\",\"type\":\"ResetTool\"},{\"attributes\":{\"callback\":null,\"factors\":[\"15\",\"20\",\"25\",\"30\"]},\"id\":\"1038\",\"type\":\"FactorRange\"},{\"attributes\":{},\"id\":\"1022\",\"type\":\"SaveTool\"},{\"attributes\":{\"fill_color\":{\"field\":\"_Value\",\"transform\":{\"id\":\"1002\",\"type\":\"LinearColorMapper\"}},\"height\":{\"units\":\"data\",\"value\":1},\"line_color\":{\"value\":null},\"width\":{\"units\":\"data\",\"value\":1},\"x\":{\"field\":\"n2\"},\"y\":{\"field\":\"n_enter\"}},\"id\":\"1127\",\"type\":\"Rect\"},{\"attributes\":{\"source\":{\"id\":\"1125\",\"type\":\"ColumnDataSource\"}},\"id\":\"1130\",\"type\":\"CDSView\"},{\"attributes\":{\"overlay\":{\"id\":\"1243\",\"type\":\"BoxAnnotation\"}},\"id\":\"1148\",\"type\":\"BoxZoomTool\"},{\"attributes\":{\"text\":\"\"},\"id\":\"1235\",\"type\":\"Title\"},{\"attributes\":{\"callback\":null,\"tooltips\":[[\"n1\",\"@n1\"],[\"n2\",\"@n2\"],[\"Value\",\"@_Value{0.[000]}\"]]},\"id\":\"1023\",\"type\":\"HoverTool\"},{\"attributes\":{},\"id\":\"1149\",\"type\":\"ResetTool\"},{\"attributes\":{\"dimension\":1,\"grid_line_color\":null,\"ticker\":{\"id\":\"1081\",\"type\":\"CategoricalTicker\"}},\"id\":\"1083\",\"type\":\"Grid\"},{\"attributes\":{\"callback\":null,\"factors\":[\"10\",\"15\",\"20\"]},\"id\":\"1070\",\"type\":\"FactorRange\"},{\"attributes\":{},\"id\":\"1072\",\"type\":\"CategoricalScale\"},{\"attributes\":{\"bottom_units\":\"screen\",\"fill_alpha\":{\"value\":0.5},\"fill_color\":{\"value\":\"lightgrey\"},\"left_units\":\"screen\",\"level\":\"overlay\",\"line_alpha\":{\"value\":1.0},\"line_color\":{\"value\":\"black\"},\"line_dash\":[4,4],\"line_width\":{\"value\":2},\"render_mode\":\"css\",\"right_units\":\"screen\",\"top_units\":\"screen\"},\"id\":\"1233\",\"type\":\"BoxAnnotation\"},{\"attributes\":{},\"id\":\"1074\",\"type\":\"CategoricalScale\"},{\"attributes\":{},\"id\":\"1237\",\"type\":\"CategoricalTickFormatter\"},{\"attributes\":{\"axis_label\":\"n1\",\"axis_line_color\":{\"value\":null},\"formatter\":{\"id\":\"1217\",\"type\":\"CategoricalTickFormatter\"},\"major_label_standoff\":0,\"major_tick_line_color\":{\"value\":null},\"ticker\":{\"id\":\"1077\",\"type\":\"CategoricalTicker\"}},\"id\":\"1076\",\"type\":\"CategoricalAxis\"},{\"attributes\":{},\"id\":\"1077\",\"type\":\"CategoricalTicker\"},{\"attributes\":{\"grid_line_color\":null,\"ticker\":{\"id\":\"1077\",\"type\":\"CategoricalTicker\"}},\"id\":\"1079\",\"type\":\"Grid\"},{\"attributes\":{\"axis_label\":\"n_exit\",\"axis_line_color\":{\"value\":null},\"formatter\":{\"id\":\"1219\",\"type\":\"CategoricalTickFormatter\"},\"major_label_standoff\":0,\"major_tick_line_color\":{\"value\":null},\"ticker\":{\"id\":\"1081\",\"type\":\"CategoricalTicker\"}},\"id\":\"1080\",\"type\":\"CategoricalAxis\"},{\"attributes\":{\"callback\":null,\"tooltips\":[[\"n2\",\"@n2\"],[\"n_exit\",\"@n_exit\"],[\"Value\",\"@_Value{0.[000]}\"]]},\"id\":\"1151\",\"type\":\"HoverTool\"},{\"attributes\":{},\"id\":\"1202\",\"type\":\"UnionRenderers\"},{\"attributes\":{\"active_drag\":\"auto\",\"active_inspect\":\"auto\",\"active_multi\":null,\"active_scroll\":\"auto\",\"active_tap\":\"auto\",\"tools\":[{\"id\":\"1084\",\"type\":\"BoxZoomTool\"},{\"id\":\"1085\",\"type\":\"ResetTool\"},{\"id\":\"1086\",\"type\":\"SaveTool\"},{\"id\":\"1087\",\"type\":\"HoverTool\"}]},\"id\":\"1088\",\"type\":\"Toolbar\"},{\"attributes\":{\"overlay\":{\"id\":\"1223\",\"type\":\"BoxAnnotation\"}},\"id\":\"1084\",\"type\":\"BoxZoomTool\"},{\"attributes\":{\"bottom_units\":\"screen\",\"fill_alpha\":{\"value\":0.5},\"fill_color\":{\"value\":\"lightgrey\"},\"left_units\":\"screen\",\"level\":\"overlay\",\"line_alpha\":{\"value\":1.0},\"line_color\":{\"value\":\"black\"},\"line_dash\":[4,4],\"line_width\":{\"value\":2},\"render_mode\":\"css\",\"right_units\":\"screen\",\"top_units\":\"screen\"},\"id\":\"1203\",\"type\":\"BoxAnnotation\"},{\"attributes\":{\"bottom_units\":\"screen\",\"fill_alpha\":{\"value\":0.5},\"fill_color\":{\"value\":\"lightgrey\"},\"left_units\":\"screen\",\"level\":\"overlay\",\"line_alpha\":{\"value\":1.0},\"line_color\":{\"value\":\"black\"},\"line_dash\":[4,4],\"line_width\":{\"value\":2},\"render_mode\":\"css\",\"right_units\":\"screen\",\"top_units\":\"screen\"},\"id\":\"1213\",\"type\":\"BoxAnnotation\"},{\"attributes\":{\"below\":[{\"id\":\"1140\",\"type\":\"CategoricalAxis\"}],\"center\":[{\"id\":\"1143\",\"type\":\"Grid\"},{\"id\":\"1147\",\"type\":\"Grid\"}],\"left\":[{\"id\":\"1144\",\"type\":\"CategoricalAxis\"}],\"plot_height\":400,\"plot_width\":400,\"renderers\":[{\"id\":\"1161\",\"type\":\"GlyphRenderer\"}],\"title\":{\"id\":\"1235\",\"type\":\"Title\"},\"toolbar\":{\"id\":\"1152\",\"type\":\"Toolbar\"},\"toolbar_location\":null,\"x_range\":{\"id\":\"1132\",\"type\":\"FactorRange\"},\"x_scale\":{\"id\":\"1136\",\"type\":\"CategoricalScale\"},\"y_range\":{\"id\":\"1134\",\"type\":\"FactorRange\"},\"y_scale\":{\"id\":\"1138\",\"type\":\"CategoricalScale\"}},\"id\":\"1131\",\"subtype\":\"Figure\",\"type\":\"Plot\"},{\"attributes\":{},\"id\":\"1085\",\"type\":\"ResetTool\"},{\"attributes\":{\"text\":\"\"},\"id\":\"1205\",\"type\":\"Title\"},{\"attributes\":{},\"id\":\"1086\",\"type\":\"SaveTool\"},{\"attributes\":{\"callback\":null,\"factors\":[\"40\",\"60\",\"80\",\"100\",\"120\",\"140\",\"160\",\"180\",\"200\"]},\"id\":\"1132\",\"type\":\"FactorRange\"},{\"attributes\":{},\"id\":\"1207\",\"type\":\"CategoricalTickFormatter\"},{\"attributes\":{},\"id\":\"1217\",\"type\":\"CategoricalTickFormatter\"},{\"attributes\":{\"callback\":null,\"factors\":[\"10\",\"15\",\"20\"]},\"id\":\"1134\",\"type\":\"FactorRange\"},{\"attributes\":{\"callback\":null,\"tooltips\":[[\"n1\",\"@n1\"],[\"n_exit\",\"@n_exit\"],[\"Value\",\"@_Value{0.[000]}\"]]},\"id\":\"1087\",\"type\":\"HoverTool\"},{\"attributes\":{},\"id\":\"1211\",\"type\":\"Selection\"},{\"attributes\":{},\"id\":\"1136\",\"type\":\"CategoricalScale\"},{\"attributes\":{},\"id\":\"1150\",\"type\":\"SaveTool\"},{\"attributes\":{},\"id\":\"1138\",\"type\":\"CategoricalScale\"},{\"attributes\":{\"fill_alpha\":{\"value\":0.1},\"fill_color\":{\"value\":\"#1f77b4\"},\"height\":{\"units\":\"data\",\"value\":1},\"line_alpha\":{\"value\":0.1},\"line_color\":{\"value\":\"#1f77b4\"},\"width\":{\"units\":\"data\",\"value\":1},\"x\":{\"field\":\"n1\"},\"y\":{\"field\":\"n_exit\"}},\"id\":\"1096\",\"type\":\"Rect\"},{\"attributes\":{\"data_source\":{\"id\":\"1093\",\"type\":\"ColumnDataSource\"},\"glyph\":{\"id\":\"1095\",\"type\":\"Rect\"},\"hover_glyph\":null,\"muted_glyph\":null,\"nonselection_glyph\":{\"id\":\"1096\",\"type\":\"Rect\"},\"selection_glyph\":null,\"view\":{\"id\":\"1098\",\"type\":\"CDSView\"}},\"id\":\"1097\",\"type\":\"GlyphRenderer\"},{\"attributes\":{\"text\":\"\"},\"id\":\"1215\",\"type\":\"Title\"},{\"attributes\":{\"axis_label\":\"n2\",\"axis_line_color\":{\"value\":null},\"formatter\":{\"id\":\"1237\",\"type\":\"CategoricalTickFormatter\"},\"major_label_standoff\":0,\"major_tick_line_color\":{\"value\":null},\"ticker\":{\"id\":\"1141\",\"type\":\"CategoricalTicker\"}},\"id\":\"1140\",\"type\":\"CategoricalAxis\"},{\"attributes\":{},\"id\":\"1141\",\"type\":\"CategoricalTicker\"},{\"attributes\":{},\"id\":\"1212\",\"type\":\"UnionRenderers\"},{\"attributes\":{\"children\":[[{\"id\":\"1003\",\"subtype\":\"Figure\",\"type\":\"Plot\"},0,0],[{\"id\":\"1035\",\"subtype\":\"Figure\",\"type\":\"Plot\"},0,1],[{\"id\":\"1067\",\"subtype\":\"Figure\",\"type\":\"Plot\"},0,2],[{\"id\":\"1099\",\"subtype\":\"Figure\",\"type\":\"Plot\"},1,0],[{\"id\":\"1131\",\"subtype\":\"Figure\",\"type\":\"Plot\"},1,1],[{\"id\":\"1163\",\"subtype\":\"Figure\",\"type\":\"Plot\"},1,2]]},\"id\":\"1255\",\"type\":\"GridBox\"},{\"attributes\":{\"bottom_units\":\"screen\",\"fill_alpha\":{\"value\":0.5},\"fill_color\":{\"value\":\"lightgrey\"},\"left_units\":\"screen\",\"level\":\"overlay\",\"line_alpha\":{\"value\":1.0},\"line_color\":{\"value\":\"black\"},\"line_dash\":[4,4],\"line_width\":{\"value\":2},\"render_mode\":\"css\",\"right_units\":\"screen\",\"top_units\":\"screen\"},\"id\":\"1223\",\"type\":\"BoxAnnotation\"},{\"attributes\":{\"source\":{\"id\":\"1093\",\"type\":\"ColumnDataSource\"}},\"id\":\"1098\",\"type\":\"CDSView\"},{\"attributes\":{\"grid_line_color\":null,\"ticker\":{\"id\":\"1141\",\"type\":\"CategoricalTicker\"}},\"id\":\"1143\",\"type\":\"Grid\"},{\"attributes\":{},\"id\":\"1219\",\"type\":\"CategoricalTickFormatter\"},{\"attributes\":{\"fill_alpha\":{\"value\":0.1},\"fill_color\":{\"value\":\"#1f77b4\"},\"height\":{\"units\":\"data\",\"value\":1},\"line_alpha\":{\"value\":0.1},\"line_color\":{\"value\":\"#1f77b4\"},\"width\":{\"units\":\"data\",\"value\":1},\"x\":{\"field\":\"n_enter\"},\"y\":{\"field\":\"n_exit\"}},\"id\":\"1192\",\"type\":\"Rect\"},{\"attributes\":{\"axis_label\":\"n_exit\",\"axis_line_color\":{\"value\":null},\"formatter\":{\"id\":\"1239\",\"type\":\"CategoricalTickFormatter\"},\"major_label_standoff\":0,\"major_tick_line_color\":{\"value\":null},\"ticker\":{\"id\":\"1145\",\"type\":\"CategoricalTicker\"}},\"id\":\"1144\",\"type\":\"CategoricalAxis\"},{\"attributes\":{\"callback\":null,\"factors\":[\"15\",\"20\",\"25\",\"30\"]},\"id\":\"1164\",\"type\":\"FactorRange\"},{\"attributes\":{\"callback\":null,\"factors\":[\"10\",\"15\",\"20\"]},\"id\":\"1166\",\"type\":\"FactorRange\"},{\"attributes\":{},\"id\":\"1145\",\"type\":\"CategoricalTicker\"},{\"attributes\":{},\"id\":\"1221\",\"type\":\"Selection\"},{\"attributes\":{\"dimension\":1,\"grid_line_color\":null,\"ticker\":{\"id\":\"1145\",\"type\":\"CategoricalTicker\"}},\"id\":\"1147\",\"type\":\"Grid\"},{\"attributes\":{},\"id\":\"1168\",\"type\":\"CategoricalScale\"},{\"attributes\":{\"text\":\"\"},\"id\":\"1225\",\"type\":\"Title\"},{\"attributes\":{},\"id\":\"1170\",\"type\":\"CategoricalScale\"},{\"attributes\":{\"fill_alpha\":{\"value\":0.1},\"fill_color\":{\"value\":\"#1f77b4\"},\"height\":{\"units\":\"data\",\"value\":1},\"line_alpha\":{\"value\":0.1},\"line_color\":{\"value\":\"#1f77b4\"},\"width\":{\"units\":\"data\",\"value\":1},\"x\":{\"field\":\"n1\"},\"y\":{\"field\":\"n_enter\"}},\"id\":\"1064\",\"type\":\"Rect\"},{\"attributes\":{\"fill_alpha\":{\"value\":0.1},\"fill_color\":{\"value\":\"#1f77b4\"},\"height\":{\"units\":\"data\",\"value\":1},\"line_alpha\":{\"value\":0.1},\"line_color\":{\"value\":\"#1f77b4\"},\"width\":{\"units\":\"data\",\"value\":1},\"x\":{\"field\":\"n2\"},\"y\":{\"field\":\"n_exit\"}},\"id\":\"1160\",\"type\":\"Rect\"},{\"attributes\":{\"callback\":null,\"factors\":[\"20\",\"30\",\"40\",\"50\",\"60\",\"70\",\"80\",\"90\",\"100\"]},\"id\":\"1036\",\"type\":\"FactorRange\"},{\"attributes\":{\"axis_label\":\"n_enter\",\"axis_line_color\":{\"value\":null},\"formatter\":{\"id\":\"1247\",\"type\":\"CategoricalTickFormatter\"},\"major_label_standoff\":0,\"major_tick_line_color\":{\"value\":null},\"ticker\":{\"id\":\"1173\",\"type\":\"CategoricalTicker\"}},\"id\":\"1172\",\"type\":\"CategoricalAxis\"},{\"attributes\":{},\"id\":\"1222\",\"type\":\"UnionRenderers\"},{\"attributes\":{},\"id\":\"1227\",\"type\":\"CategoricalTickFormatter\"},{\"attributes\":{},\"id\":\"1173\",\"type\":\"CategoricalTicker\"},{\"attributes\":{\"grid_line_color\":null,\"ticker\":{\"id\":\"1173\",\"type\":\"CategoricalTicker\"}},\"id\":\"1175\",\"type\":\"Grid\"},{\"attributes\":{},\"id\":\"1232\",\"type\":\"UnionRenderers\"},{\"attributes\":{},\"id\":\"1040\",\"type\":\"CategoricalScale\"},{\"attributes\":{\"active_drag\":\"auto\",\"active_inspect\":\"auto\",\"active_multi\":null,\"active_scroll\":\"auto\",\"active_tap\":\"auto\",\"tools\":[{\"id\":\"1180\",\"type\":\"BoxZoomTool\"},{\"id\":\"1181\",\"type\":\"ResetTool\"},{\"id\":\"1182\",\"type\":\"SaveTool\"},{\"id\":\"1183\",\"type\":\"HoverTool\"}]},\"id\":\"1184\",\"type\":\"Toolbar\"},{\"attributes\":{\"axis_label\":\"n_exit\",\"axis_line_color\":{\"value\":null},\"formatter\":{\"id\":\"1249\",\"type\":\"CategoricalTickFormatter\"},\"major_label_standoff\":0,\"major_tick_line_color\":{\"value\":null},\"ticker\":{\"id\":\"1177\",\"type\":\"CategoricalTicker\"}},\"id\":\"1176\",\"type\":\"CategoricalAxis\"},{\"attributes\":{},\"id\":\"1042\",\"type\":\"CategoricalScale\"},{\"attributes\":{\"callback\":null,\"tooltips\":[[\"n_enter\",\"@n_enter\"],[\"n_exit\",\"@n_exit\"],[\"Value\",\"@_Value{0.[000]}\"]]},\"id\":\"1183\",\"type\":\"HoverTool\"},{\"attributes\":{},\"id\":\"1177\",\"type\":\"CategoricalTicker\"},{\"attributes\":{\"axis_label\":\"n1\",\"axis_line_color\":{\"value\":null},\"formatter\":{\"id\":\"1207\",\"type\":\"CategoricalTickFormatter\"},\"major_label_standoff\":0,\"major_tick_line_color\":{\"value\":null},\"ticker\":{\"id\":\"1045\",\"type\":\"CategoricalTicker\"}},\"id\":\"1044\",\"type\":\"CategoricalAxis\"},{\"attributes\":{\"dimension\":1,\"grid_line_color\":null,\"ticker\":{\"id\":\"1177\",\"type\":\"CategoricalTicker\"}},\"id\":\"1179\",\"type\":\"Grid\"},{\"attributes\":{\"source\":{\"id\":\"1029\",\"type\":\"ColumnDataSource\"}},\"id\":\"1034\",\"type\":\"CDSView\"},{\"attributes\":{},\"id\":\"1045\",\"type\":\"CategoricalTicker\"},{\"attributes\":{},\"id\":\"1229\",\"type\":\"CategoricalTickFormatter\"},{\"attributes\":{\"grid_line_color\":null,\"ticker\":{\"id\":\"1045\",\"type\":\"CategoricalTicker\"}},\"id\":\"1047\",\"type\":\"Grid\"},{\"attributes\":{\"data_source\":{\"id\":\"1189\",\"type\":\"ColumnDataSource\"},\"glyph\":{\"id\":\"1191\",\"type\":\"Rect\"},\"hover_glyph\":null,\"muted_glyph\":null,\"nonselection_glyph\":{\"id\":\"1192\",\"type\":\"Rect\"},\"selection_glyph\":null,\"view\":{\"id\":\"1194\",\"type\":\"CDSView\"}},\"id\":\"1193\",\"type\":\"GlyphRenderer\"},{\"attributes\":{\"callback\":null,\"data\":{\"_Value\":{\"__ndarray__\":\"4XahuTavyEB3xc0rC/PHQLqtMSl8Ec9AwVHeSU6cv0AgZBziBOvDQCEpZ+vU8MNAv/BbKQ3PwEAmySxTAB7CQKXkCTz2zcBA\",\"dtype\":\"float64\",\"shape\":[9]},\"index\":[0,1,2,3,4,5,6,7,8],\"n_enter\":[\"15\",\"20\",\"20\",\"25\",\"25\",\"25\",\"30\",\"30\",\"30\"],\"n_exit\":[\"10\",\"10\",\"15\",\"10\",\"15\",\"20\",\"10\",\"15\",\"20\"]},\"selected\":{\"id\":\"1251\",\"type\":\"Selection\"},\"selection_policy\":{\"id\":\"1252\",\"type\":\"UnionRenderers\"}},\"id\":\"1189\",\"type\":\"ColumnDataSource\"},{\"attributes\":{\"fill_color\":{\"field\":\"_Value\",\"transform\":{\"id\":\"1002\",\"type\":\"LinearColorMapper\"}},\"height\":{\"units\":\"data\",\"value\":1},\"line_color\":{\"value\":null},\"width\":{\"units\":\"data\",\"value\":1},\"x\":{\"field\":\"n_enter\"},\"y\":{\"field\":\"n_exit\"}},\"id\":\"1191\",\"type\":\"Rect\"},{\"attributes\":{\"overlay\":{\"id\":\"1253\",\"type\":\"BoxAnnotation\"}},\"id\":\"1180\",\"type\":\"BoxZoomTool\"},{\"attributes\":{\"axis_label\":\"n_enter\",\"axis_line_color\":{\"value\":null},\"formatter\":{\"id\":\"1209\",\"type\":\"CategoricalTickFormatter\"},\"major_label_standoff\":0,\"major_tick_line_color\":{\"value\":null},\"ticker\":{\"id\":\"1049\",\"type\":\"CategoricalTicker\"}},\"id\":\"1048\",\"type\":\"CategoricalAxis\"},{\"attributes\":{},\"id\":\"1181\",\"type\":\"ResetTool\"},{\"attributes\":{},\"id\":\"1049\",\"type\":\"CategoricalTicker\"},{\"attributes\":{},\"id\":\"1231\",\"type\":\"Selection\"},{\"attributes\":{},\"id\":\"1182\",\"type\":\"SaveTool\"},{\"attributes\":{\"dimension\":1,\"grid_line_color\":null,\"ticker\":{\"id\":\"1049\",\"type\":\"CategoricalTicker\"}},\"id\":\"1051\",\"type\":\"Grid\"},{\"attributes\":{\"data_source\":{\"id\":\"1157\",\"type\":\"ColumnDataSource\"},\"glyph\":{\"id\":\"1159\",\"type\":\"Rect\"},\"hover_glyph\":null,\"muted_glyph\":null,\"nonselection_glyph\":{\"id\":\"1160\",\"type\":\"Rect\"},\"selection_glyph\":null,\"view\":{\"id\":\"1162\",\"type\":\"CDSView\"}},\"id\":\"1161\",\"type\":\"GlyphRenderer\"},{\"attributes\":{\"callback\":null,\"data\":{\"_Value\":{\"__ndarray__\":\"URhFrYRHxUDbUWCyp8THQKIG0zA85MlAVzdnawcJxUA+WP/nG17IQKIo0Cf3g8tAvSAPao42xUAJgx/CCYDBQMGWkA/bkcdAiOtRuL9qzEA+4JTM5JXDQCE/CO5xt8BAmtoJ8oK7yUBC0E801qHLQLuckJnKa8FAToEkwpDVwEC7Ayy1pZnJQK+L22iA2clAS3EnaewZwUBfh/CtAwbBQNMJxxmkschA4YEUT6g8y0B8REyJvBvAQFgezc3e68FAbeOItbhOzEBM0jWTCTTNQJxPzu68wMBAZy9TMQGUwUBq3qrrEKXLQMsMG2VJZs1AeY7bQhLowED6pVhIi1fBQA==\",\"dtype\":\"float64\",\"shape\":[32]},\"index\":[0,1,2,3,4,5,6,7,8,9,10,11,12,13,14,15,16,17,18,19,20,21,22,23,24,25,26,27,28,29,30,31],\"n1\":[\"20\",\"30\",\"30\",\"30\",\"40\",\"40\",\"40\",\"40\",\"50\",\"50\",\"50\",\"50\",\"60\",\"60\",\"60\",\"60\",\"70\",\"70\",\"70\",\"70\",\"80\",\"80\",\"80\",\"80\",\"90\",\"90\",\"90\",\"90\",\"100\",\"100\",\"100\",\"100\"],\"n_enter\":[\"15\",\"15\",\"20\",\"25\",\"15\",\"20\",\"25\",\"30\",\"15\",\"20\",\"25\",\"30\",\"15\",\"20\",\"25\",\"30\",\"15\",\"20\",\"25\",\"30\",\"15\",\"20\",\"25\",\"30\",\"15\",\"20\",\"25\",\"30\",\"15\",\"20\",\"25\",\"30\"]},\"selected\":{\"id\":\"1211\",\"type\":\"Selection\"},\"selection_policy\":{\"id\":\"1212\",\"type\":\"UnionRenderers\"}},\"id\":\"1061\",\"type\":\"ColumnDataSource\"},{\"attributes\":{\"fill_color\":{\"field\":\"_Value\",\"transform\":{\"id\":\"1002\",\"type\":\"LinearColorMapper\"}},\"height\":{\"units\":\"data\",\"value\":1},\"line_color\":{\"value\":null},\"width\":{\"units\":\"data\",\"value\":1},\"x\":{\"field\":\"n1\"},\"y\":{\"field\":\"n_exit\"}},\"id\":\"1095\",\"type\":\"Rect\"},{\"attributes\":{\"active_drag\":\"auto\",\"active_inspect\":\"auto\",\"active_multi\":null,\"active_scroll\":\"auto\",\"active_tap\":\"auto\",\"tools\":[{\"id\":\"1052\",\"type\":\"BoxZoomTool\"},{\"id\":\"1053\",\"type\":\"ResetTool\"},{\"id\":\"1054\",\"type\":\"SaveTool\"},{\"id\":\"1055\",\"type\":\"HoverTool\"}]},\"id\":\"1056\",\"type\":\"Toolbar\"},{\"attributes\":{\"callback\":null,\"data\":{\"_Value\":{\"__ndarray__\":\"URhFrYRHxUD54jsK9aPFQKaoq9mKi8pA8QoxhEGlxECPMhvkKGrEQBckao+3GslALS/APoRIw0CMug9A+OTDQBSPeJ9pp8dAQJqxaKBiw0BtSJc7mOLDQEZr4rbeUcZA2jhiLaKhwkB3QTijm3rDQM7OKNv7scVAasnnVgpWwkB7IMUTSWnEQDWOWItr0MVAxgQP5q8VwUAkiBkHFwLGQOhg/Z+nRsZA52D9n1lswUDLdVPKf73FQE4KzYg1uMZAnk/kSe4IwUA=\",\"dtype\":\"float64\",\"shape\":[25]},\"index\":[0,1,2,3,4,5,6,7,8,9,10,11,12,13,14,15,16,17,18,19,20,21,22,23,24],\"n1\":[\"20\",\"30\",\"30\",\"30\",\"40\",\"40\",\"40\",\"50\",\"50\",\"50\",\"60\",\"60\",\"60\",\"70\",\"70\",\"70\",\"80\",\"80\",\"80\",\"90\",\"90\",\"90\",\"100\",\"100\",\"100\"],\"n_exit\":[\"10\",\"10\",\"15\",\"20\",\"10\",\"15\",\"20\",\"10\",\"15\",\"20\",\"10\",\"15\",\"20\",\"10\",\"15\",\"20\",\"10\",\"15\",\"20\",\"10\",\"15\",\"20\",\"10\",\"15\",\"20\"]},\"selected\":{\"id\":\"1221\",\"type\":\"Selection\"},\"selection_policy\":{\"id\":\"1222\",\"type\":\"UnionRenderers\"}},\"id\":\"1093\",\"type\":\"ColumnDataSource\"},{\"attributes\":{\"source\":{\"id\":\"1189\",\"type\":\"ColumnDataSource\"}},\"id\":\"1194\",\"type\":\"CDSView\"},{\"attributes\":{\"overlay\":{\"id\":\"1213\",\"type\":\"BoxAnnotation\"}},\"id\":\"1052\",\"type\":\"BoxZoomTool\"},{\"attributes\":{\"below\":[{\"id\":\"1076\",\"type\":\"CategoricalAxis\"}],\"center\":[{\"id\":\"1079\",\"type\":\"Grid\"},{\"id\":\"1083\",\"type\":\"Grid\"}],\"left\":[{\"id\":\"1080\",\"type\":\"CategoricalAxis\"}],\"plot_height\":400,\"plot_width\":400,\"renderers\":[{\"id\":\"1097\",\"type\":\"GlyphRenderer\"}],\"title\":{\"id\":\"1215\",\"type\":\"Title\"},\"toolbar\":{\"id\":\"1088\",\"type\":\"Toolbar\"},\"toolbar_location\":null,\"x_range\":{\"id\":\"1068\",\"type\":\"FactorRange\"},\"x_scale\":{\"id\":\"1072\",\"type\":\"CategoricalScale\"},\"y_range\":{\"id\":\"1070\",\"type\":\"FactorRange\"},\"y_scale\":{\"id\":\"1074\",\"type\":\"CategoricalScale\"}},\"id\":\"1067\",\"subtype\":\"Figure\",\"type\":\"Plot\"},{\"attributes\":{\"below\":[{\"id\":\"1172\",\"type\":\"CategoricalAxis\"}],\"center\":[{\"id\":\"1175\",\"type\":\"Grid\"},{\"id\":\"1179\",\"type\":\"Grid\"}],\"left\":[{\"id\":\"1176\",\"type\":\"CategoricalAxis\"}],\"plot_height\":400,\"plot_width\":400,\"renderers\":[{\"id\":\"1193\",\"type\":\"GlyphRenderer\"}],\"title\":{\"id\":\"1245\",\"type\":\"Title\"},\"toolbar\":{\"id\":\"1184\",\"type\":\"Toolbar\"},\"toolbar_location\":null,\"x_range\":{\"id\":\"1164\",\"type\":\"FactorRange\"},\"x_scale\":{\"id\":\"1168\",\"type\":\"CategoricalScale\"},\"y_range\":{\"id\":\"1166\",\"type\":\"FactorRange\"},\"y_scale\":{\"id\":\"1170\",\"type\":\"CategoricalScale\"}},\"id\":\"1163\",\"subtype\":\"Figure\",\"type\":\"Plot\"},{\"attributes\":{},\"id\":\"1053\",\"type\":\"ResetTool\"},{\"attributes\":{\"callback\":null,\"factors\":[\"20\",\"30\",\"40\",\"50\",\"60\",\"70\",\"80\",\"90\",\"100\"]},\"id\":\"1068\",\"type\":\"FactorRange\"},{\"attributes\":{\"text\":\"\"},\"id\":\"1195\",\"type\":\"Title\"},{\"attributes\":{\"source\":{\"id\":\"1157\",\"type\":\"ColumnDataSource\"}},\"id\":\"1162\",\"type\":\"CDSView\"},{\"attributes\":{},\"id\":\"1054\",\"type\":\"SaveTool\"},{\"attributes\":{\"callback\":null,\"tooltips\":[[\"n1\",\"@n1\"],[\"n_enter\",\"@n_enter\"],[\"Value\",\"@_Value{0.[000]}\"]]},\"id\":\"1055\",\"type\":\"HoverTool\"},{\"attributes\":{},\"id\":\"1197\",\"type\":\"CategoricalTickFormatter\"},{\"attributes\":{\"data_source\":{\"id\":\"1061\",\"type\":\"ColumnDataSource\"},\"glyph\":{\"id\":\"1063\",\"type\":\"Rect\"},\"hover_glyph\":null,\"muted_glyph\":null,\"nonselection_glyph\":{\"id\":\"1064\",\"type\":\"Rect\"},\"selection_glyph\":null,\"view\":{\"id\":\"1066\",\"type\":\"CDSView\"}},\"id\":\"1065\",\"type\":\"GlyphRenderer\"},{\"attributes\":{},\"id\":\"1199\",\"type\":\"CategoricalTickFormatter\"},{\"attributes\":{\"fill_color\":{\"field\":\"_Value\",\"transform\":{\"id\":\"1002\",\"type\":\"LinearColorMapper\"}},\"height\":{\"units\":\"data\",\"value\":1},\"line_color\":{\"value\":null},\"width\":{\"units\":\"data\",\"value\":1},\"x\":{\"field\":\"n1\"},\"y\":{\"field\":\"n_enter\"}},\"id\":\"1063\",\"type\":\"Rect\"},{\"attributes\":{\"source\":{\"id\":\"1061\",\"type\":\"ColumnDataSource\"}},\"id\":\"1066\",\"type\":\"CDSView\"},{\"attributes\":{},\"id\":\"1201\",\"type\":\"Selection\"},{\"attributes\":{\"data_source\":{\"id\":\"1029\",\"type\":\"ColumnDataSource\"},\"glyph\":{\"id\":\"1031\",\"type\":\"Rect\"},\"hover_glyph\":null,\"muted_glyph\":null,\"nonselection_glyph\":{\"id\":\"1032\",\"type\":\"Rect\"},\"selection_glyph\":null,\"view\":{\"id\":\"1034\",\"type\":\"CDSView\"}},\"id\":\"1033\",\"type\":\"GlyphRenderer\"}],\"root_ids\":[\"1258\"]},\"title\":\"Bokeh Application\",\"version\":\"1.4.0\"}};\n",
       "  var render_items = [{\"docid\":\"2b33a75e-d2b7-4da4-bbd1-5f50fc8c5e74\",\"roots\":{\"1258\":\"ebf97b70-abfe-4d7a-ae30-f857fe4dfb12\"}}];\n",
       "  root.Bokeh.embed.embed_items_notebook(docs_json, render_items);\n",
       "\n",
       "  }\n",
       "  if (root.Bokeh !== undefined) {\n",
       "    embed_document(root);\n",
       "  } else {\n",
       "    var attempts = 0;\n",
       "    var timer = setInterval(function(root) {\n",
       "      if (root.Bokeh !== undefined) {\n",
       "        clearInterval(timer);\n",
       "        embed_document(root);\n",
       "      } else {\n",
       "        attempts++;\n",
       "        if (attempts > 100) {\n",
       "          clearInterval(timer);\n",
       "          console.log(\"Bokeh: ERROR: Unable to run BokehJS code because BokehJS library is missing\");\n",
       "        }\n",
       "      }\n",
       "    }, 10, root)\n",
       "  }\n",
       "})(window);"
      ],
      "application/vnd.bokehjs_exec.v0+json": ""
     },
     "metadata": {
      "application/vnd.bokehjs_exec.v0+json": {
       "id": "1258"
      }
     },
     "output_type": "display_data"
    },
    {
     "data": {
      "text/html": [
       "<div style=\"display: table;\"><div style=\"display: table-row;\"><div style=\"display: table-cell;\"><b title=\"bokeh.models.layouts.Column\">Column</b>(</div><div style=\"display: table-cell;\">id&nbsp;=&nbsp;'1258', <span id=\"1638\" style=\"cursor: pointer;\">&hellip;)</span></div></div><div class=\"1637\" style=\"display: none;\"><div style=\"display: table-cell;\"></div><div style=\"display: table-cell;\">align&nbsp;=&nbsp;'start',</div></div><div class=\"1637\" style=\"display: none;\"><div style=\"display: table-cell;\"></div><div style=\"display: table-cell;\">aspect_ratio&nbsp;=&nbsp;None,</div></div><div class=\"1637\" style=\"display: none;\"><div style=\"display: table-cell;\"></div><div style=\"display: table-cell;\">background&nbsp;=&nbsp;None,</div></div><div class=\"1637\" style=\"display: none;\"><div style=\"display: table-cell;\"></div><div style=\"display: table-cell;\">children&nbsp;=&nbsp;[ToolbarBox(id='1257', ...), GridBox(id='1255', ...)],</div></div><div class=\"1637\" style=\"display: none;\"><div style=\"display: table-cell;\"></div><div style=\"display: table-cell;\">css_classes&nbsp;=&nbsp;[],</div></div><div class=\"1637\" style=\"display: none;\"><div style=\"display: table-cell;\"></div><div style=\"display: table-cell;\">disabled&nbsp;=&nbsp;False,</div></div><div class=\"1637\" style=\"display: none;\"><div style=\"display: table-cell;\"></div><div style=\"display: table-cell;\">height&nbsp;=&nbsp;None,</div></div><div class=\"1637\" style=\"display: none;\"><div style=\"display: table-cell;\"></div><div style=\"display: table-cell;\">height_policy&nbsp;=&nbsp;'auto',</div></div><div class=\"1637\" style=\"display: none;\"><div style=\"display: table-cell;\"></div><div style=\"display: table-cell;\">js_event_callbacks&nbsp;=&nbsp;{},</div></div><div class=\"1637\" style=\"display: none;\"><div style=\"display: table-cell;\"></div><div style=\"display: table-cell;\">js_property_callbacks&nbsp;=&nbsp;{},</div></div><div class=\"1637\" style=\"display: none;\"><div style=\"display: table-cell;\"></div><div style=\"display: table-cell;\">margin&nbsp;=&nbsp;(0, 0, 0, 0),</div></div><div class=\"1637\" style=\"display: none;\"><div style=\"display: table-cell;\"></div><div style=\"display: table-cell;\">max_height&nbsp;=&nbsp;None,</div></div><div class=\"1637\" style=\"display: none;\"><div style=\"display: table-cell;\"></div><div style=\"display: table-cell;\">max_width&nbsp;=&nbsp;None,</div></div><div class=\"1637\" style=\"display: none;\"><div style=\"display: table-cell;\"></div><div style=\"display: table-cell;\">min_height&nbsp;=&nbsp;None,</div></div><div class=\"1637\" style=\"display: none;\"><div style=\"display: table-cell;\"></div><div style=\"display: table-cell;\">min_width&nbsp;=&nbsp;None,</div></div><div class=\"1637\" style=\"display: none;\"><div style=\"display: table-cell;\"></div><div style=\"display: table-cell;\">name&nbsp;=&nbsp;None,</div></div><div class=\"1637\" style=\"display: none;\"><div style=\"display: table-cell;\"></div><div style=\"display: table-cell;\">rows&nbsp;=&nbsp;'auto',</div></div><div class=\"1637\" style=\"display: none;\"><div style=\"display: table-cell;\"></div><div style=\"display: table-cell;\">sizing_mode&nbsp;=&nbsp;None,</div></div><div class=\"1637\" style=\"display: none;\"><div style=\"display: table-cell;\"></div><div style=\"display: table-cell;\">spacing&nbsp;=&nbsp;0,</div></div><div class=\"1637\" style=\"display: none;\"><div style=\"display: table-cell;\"></div><div style=\"display: table-cell;\">subscribed_events&nbsp;=&nbsp;[],</div></div><div class=\"1637\" style=\"display: none;\"><div style=\"display: table-cell;\"></div><div style=\"display: table-cell;\">tags&nbsp;=&nbsp;[],</div></div><div class=\"1637\" style=\"display: none;\"><div style=\"display: table-cell;\"></div><div style=\"display: table-cell;\">visible&nbsp;=&nbsp;True,</div></div><div class=\"1637\" style=\"display: none;\"><div style=\"display: table-cell;\"></div><div style=\"display: table-cell;\">width&nbsp;=&nbsp;None,</div></div><div class=\"1637\" style=\"display: none;\"><div style=\"display: table-cell;\"></div><div style=\"display: table-cell;\">width_policy&nbsp;=&nbsp;'auto')</div></div></div>\n",
       "<script>\n",
       "(function() {\n",
       "  var expanded = false;\n",
       "  var ellipsis = document.getElementById(\"1638\");\n",
       "  ellipsis.addEventListener(\"click\", function() {\n",
       "    var rows = document.getElementsByClassName(\"1637\");\n",
       "    for (var i = 0; i < rows.length; i++) {\n",
       "      var el = rows[i];\n",
       "      el.style.display = expanded ? \"none\" : \"table-row\";\n",
       "    }\n",
       "    ellipsis.innerHTML = expanded ? \"&hellip;)\" : \"&lsaquo;&lsaquo;&lsaquo;\";\n",
       "    expanded = !expanded;\n",
       "  });\n",
       "})();\n",
       "</script>\n"
      ],
      "text/plain": [
       "Column(id='1258', ...)"
      ]
     },
     "execution_count": 8,
     "metadata": {},
     "output_type": "execute_result"
    }
   ],
   "source": [
    "from backtesting.lib import plot_heatmaps\n",
    "\n",
    "\n",
    "plot_heatmaps(heatmap, agg='mean')"
   ]
  },
  {
   "cell_type": "markdown",
   "metadata": {},
   "source": [
    "Learn more by exploring further\n",
    "[examples](https://kernc.github.io/backtesting.py/doc/backtesting/index.html#tutorials)\n",
    "or find more framework options in the\n",
    "[full API reference](https://kernc.github.io/backtesting.py/doc/backtesting/index.html#header-submodules)."
   ]
  }
 ],
 "metadata": {
  "jupytext": {
   "text_representation": {
    "format_version": "1.1"
   }
  },
  "kernelspec": {
   "display_name": "Python 3",
   "language": "python",
   "name": "python3"
  },
  "language_info": {
   "codemirror_mode": {
    "name": "ipython",
    "version": 3
   },
   "file_extension": ".py",
   "mimetype": "text/x-python",
   "name": "python",
   "nbconvert_exporter": "python",
   "pygments_lexer": "ipython3",
   "version": "3.7.3"
  }
 },
 "nbformat": 4,
 "nbformat_minor": 2
}
